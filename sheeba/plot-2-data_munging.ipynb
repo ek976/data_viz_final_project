{
 "cells": [
  {
   "cell_type": "markdown",
   "metadata": {},
   "source": [
    "---\n",
    "title: \"\"\n",
    "author: \"\"\n",
    "draft: true\n",
    "---"
   ]
  },
  {
   "cell_type": "code",
   "execution_count": 117,
   "metadata": {},
   "outputs": [],
   "source": [
    "import pandas as pd\n",
    "import numpy as np"
   ]
  },
  {
   "cell_type": "code",
   "execution_count": 118,
   "metadata": {},
   "outputs": [
    {
     "data": {
      "text/html": [
       "<div>\n",
       "<style scoped>\n",
       "    .dataframe tbody tr th:only-of-type {\n",
       "        vertical-align: middle;\n",
       "    }\n",
       "\n",
       "    .dataframe tbody tr th {\n",
       "        vertical-align: top;\n",
       "    }\n",
       "\n",
       "    .dataframe thead th {\n",
       "        text-align: right;\n",
       "    }\n",
       "</style>\n",
       "<table border=\"1\" class=\"dataframe\">\n",
       "  <thead>\n",
       "    <tr style=\"text-align: right;\">\n",
       "      <th></th>\n",
       "      <th>Country Name</th>\n",
       "      <th>Region</th>\n",
       "      <th>numeric_region</th>\n",
       "      <th>2014 (GDP per capita (current US$))</th>\n",
       "      <th>2014 (GNI per capita, Atlas method (current US$))</th>\n",
       "      <th>2014 (Gross enrolment ratio, primary and secondary, female (%))</th>\n",
       "      <th>Income group</th>\n",
       "      <th>numeric_income</th>\n",
       "    </tr>\n",
       "  </thead>\n",
       "  <tbody>\n",
       "    <tr>\n",
       "      <th>0</th>\n",
       "      <td>Lao PDR</td>\n",
       "      <td>East Asia &amp; Pacific</td>\n",
       "      <td>4</td>\n",
       "      <td>2017.587781</td>\n",
       "      <td>1840.0</td>\n",
       "      <td>0.377251</td>\n",
       "      <td>Lower middle income</td>\n",
       "      <td>1</td>\n",
       "    </tr>\n",
       "    <tr>\n",
       "      <th>1</th>\n",
       "      <td>Brunei Darussalam</td>\n",
       "      <td>East Asia &amp; Pacific</td>\n",
       "      <td>4</td>\n",
       "      <td>41530.668979</td>\n",
       "      <td>42930.0</td>\n",
       "      <td>0.619644</td>\n",
       "      <td>High income</td>\n",
       "      <td>3</td>\n",
       "    </tr>\n",
       "    <tr>\n",
       "      <th>2</th>\n",
       "      <td>Timor-Leste</td>\n",
       "      <td>East Asia &amp; Pacific</td>\n",
       "      <td>4</td>\n",
       "      <td>1196.061391</td>\n",
       "      <td>2840.0</td>\n",
       "      <td>0.667932</td>\n",
       "      <td>Lower middle income</td>\n",
       "      <td>1</td>\n",
       "    </tr>\n",
       "    <tr>\n",
       "      <th>3</th>\n",
       "      <td>Indonesia</td>\n",
       "      <td>East Asia &amp; Pacific</td>\n",
       "      <td>4</td>\n",
       "      <td>3491.595887</td>\n",
       "      <td>3620.0</td>\n",
       "      <td>0.524193</td>\n",
       "      <td>Upper middle income</td>\n",
       "      <td>2</td>\n",
       "    </tr>\n",
       "    <tr>\n",
       "      <th>4</th>\n",
       "      <td>China</td>\n",
       "      <td>East Asia &amp; Pacific</td>\n",
       "      <td>4</td>\n",
       "      <td>7683.502613</td>\n",
       "      <td>7520.0</td>\n",
       "      <td>0.587417</td>\n",
       "      <td>Upper middle income</td>\n",
       "      <td>2</td>\n",
       "    </tr>\n",
       "    <tr>\n",
       "      <th>5</th>\n",
       "      <td>Tonga</td>\n",
       "      <td>East Asia &amp; Pacific</td>\n",
       "      <td>4</td>\n",
       "      <td>4196.470593</td>\n",
       "      <td>4360.0</td>\n",
       "      <td>0.598186</td>\n",
       "      <td>Upper middle income</td>\n",
       "      <td>2</td>\n",
       "    </tr>\n",
       "    <tr>\n",
       "      <th>6</th>\n",
       "      <td>New Zealand</td>\n",
       "      <td>East Asia &amp; Pacific</td>\n",
       "      <td>4</td>\n",
       "      <td>44503.246733</td>\n",
       "      <td>41530.0</td>\n",
       "      <td>0.697885</td>\n",
       "      <td>High income</td>\n",
       "      <td>3</td>\n",
       "    </tr>\n",
       "    <tr>\n",
       "      <th>7</th>\n",
       "      <td>Switzerland</td>\n",
       "      <td>Europe &amp; Central Asia</td>\n",
       "      <td>2</td>\n",
       "      <td>86605.563376</td>\n",
       "      <td>86200.0</td>\n",
       "      <td>0.594996</td>\n",
       "      <td>High income</td>\n",
       "      <td>3</td>\n",
       "    </tr>\n",
       "    <tr>\n",
       "      <th>8</th>\n",
       "      <td>Sweden</td>\n",
       "      <td>Europe &amp; Central Asia</td>\n",
       "      <td>2</td>\n",
       "      <td>59180.198978</td>\n",
       "      <td>61030.0</td>\n",
       "      <td>0.926327</td>\n",
       "      <td>High income</td>\n",
       "      <td>3</td>\n",
       "    </tr>\n",
       "    <tr>\n",
       "      <th>9</th>\n",
       "      <td>Hungary</td>\n",
       "      <td>Europe &amp; Central Asia</td>\n",
       "      <td>2</td>\n",
       "      <td>14201.448832</td>\n",
       "      <td>13460.0</td>\n",
       "      <td>0.642934</td>\n",
       "      <td>High income</td>\n",
       "      <td>3</td>\n",
       "    </tr>\n",
       "  </tbody>\n",
       "</table>\n",
       "</div>"
      ],
      "text/plain": [
       "        Country Name                 Region  numeric_region  \\\n",
       "0            Lao PDR    East Asia & Pacific               4   \n",
       "1  Brunei Darussalam    East Asia & Pacific               4   \n",
       "2        Timor-Leste    East Asia & Pacific               4   \n",
       "3          Indonesia    East Asia & Pacific               4   \n",
       "4              China    East Asia & Pacific               4   \n",
       "5              Tonga    East Asia & Pacific               4   \n",
       "6        New Zealand    East Asia & Pacific               4   \n",
       "7        Switzerland  Europe & Central Asia               2   \n",
       "8             Sweden  Europe & Central Asia               2   \n",
       "9            Hungary  Europe & Central Asia               2   \n",
       "\n",
       "   2014 (GDP per capita (current US$))  \\\n",
       "0                          2017.587781   \n",
       "1                         41530.668979   \n",
       "2                          1196.061391   \n",
       "3                          3491.595887   \n",
       "4                          7683.502613   \n",
       "5                          4196.470593   \n",
       "6                         44503.246733   \n",
       "7                         86605.563376   \n",
       "8                         59180.198978   \n",
       "9                         14201.448832   \n",
       "\n",
       "   2014 (GNI per capita, Atlas method (current US$))  \\\n",
       "0                                             1840.0   \n",
       "1                                            42930.0   \n",
       "2                                             2840.0   \n",
       "3                                             3620.0   \n",
       "4                                             7520.0   \n",
       "5                                             4360.0   \n",
       "6                                            41530.0   \n",
       "7                                            86200.0   \n",
       "8                                            61030.0   \n",
       "9                                            13460.0   \n",
       "\n",
       "   2014 (Gross enrolment ratio, primary and secondary, female (%))  \\\n",
       "0                                           0.377251                 \n",
       "1                                           0.619644                 \n",
       "2                                           0.667932                 \n",
       "3                                           0.524193                 \n",
       "4                                           0.587417                 \n",
       "5                                           0.598186                 \n",
       "6                                           0.697885                 \n",
       "7                                           0.594996                 \n",
       "8                                           0.926327                 \n",
       "9                                           0.642934                 \n",
       "\n",
       "          Income group  numeric_income  \n",
       "0  Lower middle income               1  \n",
       "1          High income               3  \n",
       "2  Lower middle income               1  \n",
       "3  Upper middle income               2  \n",
       "4  Upper middle income               2  \n",
       "5  Upper middle income               2  \n",
       "6          High income               3  \n",
       "7          High income               3  \n",
       "8          High income               3  \n",
       "9          High income               3  "
      ]
     },
     "execution_count": 118,
     "metadata": {},
     "output_type": "execute_result"
    }
   ],
   "source": [
    "df=pd.read_csv('sheeba_df_1.csv')\n",
    "df.head(10)"
   ]
  },
  {
   "cell_type": "code",
   "execution_count": 119,
   "metadata": {},
   "outputs": [
    {
     "name": "stdout",
     "output_type": "stream",
     "text": [
      "              country               region  numeric_region  gdp_per_capita  \\\n",
      "0             Lao PDR  East Asia & Pacific               4     2017.587781   \n",
      "1   Brunei Darussalam  East Asia & Pacific               4    41530.668979   \n",
      "2         Timor-Leste  East Asia & Pacific               4     1196.061391   \n",
      "3           Indonesia  East Asia & Pacific               4     3491.595887   \n",
      "4               China  East Asia & Pacific               4     7683.502613   \n",
      "..                ...                  ...             ...             ...   \n",
      "64          Mauritius   Sub-Saharan Africa               5    10153.938218   \n",
      "65         Mauritania   Sub-Saharan Africa               5     1326.668654   \n",
      "66       South Africa   Sub-Saharan Africa               5     6484.584983   \n",
      "67             Malawi   Sub-Saharan Africa               5      354.725396   \n",
      "68            Lesotho   Sub-Saharan Africa               5     1218.466106   \n",
      "\n",
      "    gni_per_capita  enrolment_ratio_female         income_group  \\\n",
      "0           1840.0                0.377251  Lower middle income   \n",
      "1          42930.0                0.619644          High income   \n",
      "2           2840.0                0.667932  Lower middle income   \n",
      "3           3620.0                0.524193  Upper middle income   \n",
      "4           7520.0                0.587417  Upper middle income   \n",
      "..             ...                     ...                  ...   \n",
      "64          9790.0                0.601460  Upper middle income   \n",
      "65          1380.0                0.232289  Lower middle income   \n",
      "66          6800.0                0.590075  Upper middle income   \n",
      "67           350.0                0.567676           Low income   \n",
      "68          1380.0                0.454779  Lower middle income   \n",
      "\n",
      "    numeric_income  \n",
      "0                1  \n",
      "1                3  \n",
      "2                1  \n",
      "3                2  \n",
      "4                2  \n",
      "..             ...  \n",
      "64               2  \n",
      "65               1  \n",
      "66               2  \n",
      "67               0  \n",
      "68               1  \n",
      "\n",
      "[69 rows x 8 columns]\n"
     ]
    }
   ],
   "source": [
    "df.rename(columns={\n",
    "    'Country Name': 'country',\n",
    "    'Region': 'region',\n",
    "    'numeric_region': 'numeric_region',\n",
    "    '2014 (GDP per capita (current US$))': 'gdp_per_capita',\n",
    "    '2014 (GNI per capita, Atlas method (current US$))': 'gni_per_capita',\n",
    "    '2014 (Gross enrolment ratio, primary and secondary, female (%))': 'enrolment_ratio_female',\n",
    "    'Income group': 'income_group',\n",
    "    'numeric_income': 'numeric_income'\n",
    "}, inplace=True)\n",
    "print(df)"
   ]
  },
  {
   "cell_type": "code",
   "execution_count": 120,
   "metadata": {},
   "outputs": [
    {
     "data": {
      "text/plain": [
       "Index(['country', 'region', 'numeric_region', 'gdp_per_capita',\n",
       "       'gni_per_capita', 'enrolment_ratio_female', 'income_group',\n",
       "       'numeric_income'],\n",
       "      dtype='object')"
      ]
     },
     "execution_count": 120,
     "metadata": {},
     "output_type": "execute_result"
    }
   ],
   "source": [
    "df.columns"
   ]
  },
  {
   "cell_type": "code",
   "execution_count": 121,
   "metadata": {},
   "outputs": [],
   "source": [
    "df.drop(columns=['numeric_region', 'numeric_income' ], inplace=True)\n",
    "df.head(10)\n",
    "df = df.round(2)"
   ]
  },
  {
   "cell_type": "code",
   "execution_count": 122,
   "metadata": {},
   "outputs": [
    {
     "data": {
      "text/plain": [
       "Index(['country', 'region', 'gdp_per_capita', 'gni_per_capita',\n",
       "       'enrolment_ratio_female', 'income_group'],\n",
       "      dtype='object')"
      ]
     },
     "execution_count": 122,
     "metadata": {},
     "output_type": "execute_result"
    }
   ],
   "source": [
    "df.columns"
   ]
  },
  {
   "cell_type": "code",
   "execution_count": 123,
   "metadata": {},
   "outputs": [],
   "source": [
    "column_mapping = {\n",
    "    'gdp_per_capita': 'GDP per capita (USD)',\n",
    "    'gni_per_capita': 'GNI per capita (USD)',\n",
    "    'enrolment_ratio_female': 'Female enrolment ratio',\n",
    "    'income_group': 'Income group',\n",
    "    'region': 'Region',\n",
    "    'country': 'Country'\n",
    "}\n",
    "\n",
    "# Rename columns using the mapping dictionary\n",
    "df = df.rename(columns=column_mapping)"
   ]
  },
  {
   "cell_type": "code",
   "execution_count": 124,
   "metadata": {},
   "outputs": [
    {
     "data": {
      "text/plain": [
       "Index(['Country', 'Region', 'GDP per capita (USD)', 'GNI per capita (USD)',\n",
       "       'Female enrolment ratio', 'Income group'],\n",
       "      dtype='object')"
      ]
     },
     "execution_count": 124,
     "metadata": {},
     "output_type": "execute_result"
    }
   ],
   "source": [
    "df.columns"
   ]
  },
  {
   "cell_type": "code",
   "execution_count": 125,
   "metadata": {},
   "outputs": [],
   "source": [
    "df.to_csv('sheeba_df.csv')"
   ]
  }
 ],
 "metadata": {
  "kernelspec": {
   "display_name": "Python 3",
   "language": "python",
   "name": "python3"
  },
  "language_info": {
   "codemirror_mode": {
    "name": "ipython",
    "version": 3
   },
   "file_extension": ".py",
   "mimetype": "text/x-python",
   "name": "python",
   "nbconvert_exporter": "python",
   "pygments_lexer": "ipython3",
   "version": "3.10.9"
  }
 },
 "nbformat": 4,
 "nbformat_minor": 2
}

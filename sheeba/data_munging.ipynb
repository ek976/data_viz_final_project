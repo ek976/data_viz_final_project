{
 "cells": [
  {
   "cell_type": "code",
   "execution_count": 14,
   "metadata": {},
   "outputs": [],
   "source": [
    "import pandas as pd"
   ]
  },
  {
   "cell_type": "code",
   "execution_count": 15,
   "metadata": {},
   "outputs": [],
   "source": [
    "primary= pd.read_csv('/Users/sheebamoghal/Desktop/DSAN_5200/data_viz_final_project/sheeba/primary.csv', skiprows=1)\n",
    "secondary=pd.read_csv('/Users/sheebamoghal/Desktop/DSAN_5200/data_viz_final_project/sheeba/secondary.csv',skiprows=1)\n",
    "tertiary=pd.read_csv('/Users/sheebamoghal/Desktop/DSAN_5200/data_viz_final_project/sheeba/tertiary.csv',skiprows=1)"
   ]
  },
  {
   "cell_type": "code",
   "execution_count": 16,
   "metadata": {},
   "outputs": [
    {
     "data": {
      "text/html": [
       "<div>\n",
       "<style scoped>\n",
       "    .dataframe tbody tr th:only-of-type {\n",
       "        vertical-align: middle;\n",
       "    }\n",
       "\n",
       "    .dataframe tbody tr th {\n",
       "        vertical-align: top;\n",
       "    }\n",
       "\n",
       "    .dataframe thead th {\n",
       "        text-align: right;\n",
       "    }\n",
       "</style>\n",
       "<table border=\"1\" class=\"dataframe\">\n",
       "  <thead>\n",
       "    <tr style=\"text-align: right;\">\n",
       "      <th></th>\n",
       "      <th>country_name</th>\n",
       "      <th>2009</th>\n",
       "      <th>2010</th>\n",
       "      <th>2011</th>\n",
       "      <th>2012</th>\n",
       "      <th>2013</th>\n",
       "      <th>2014</th>\n",
       "      <th>2015</th>\n",
       "      <th>2016</th>\n",
       "      <th>2017</th>\n",
       "      <th>2018</th>\n",
       "      <th>2019</th>\n",
       "      <th>2020</th>\n",
       "    </tr>\n",
       "  </thead>\n",
       "  <tbody>\n",
       "    <tr>\n",
       "      <th>0</th>\n",
       "      <td>Argentina</td>\n",
       "      <td>2 583.3</td>\n",
       "      <td>2 708.0</td>\n",
       "      <td>2 975.0</td>\n",
       "      <td>NaN</td>\n",
       "      <td>NaN</td>\n",
       "      <td>NaN</td>\n",
       "      <td>NaN</td>\n",
       "      <td>NaN</td>\n",
       "      <td>NaN</td>\n",
       "      <td>NaN</td>\n",
       "      <td>NaN</td>\n",
       "      <td>NaN</td>\n",
       "    </tr>\n",
       "    <tr>\n",
       "      <th>1</th>\n",
       "      <td>Australia</td>\n",
       "      <td>8 582.1</td>\n",
       "      <td>9 378.1</td>\n",
       "      <td>9 099.4</td>\n",
       "      <td>8 591.2</td>\n",
       "      <td>9 242.0</td>\n",
       "      <td>9 258.0</td>\n",
       "      <td>9 527.2</td>\n",
       "      <td>10 020.5</td>\n",
       "      <td>10 157.1</td>\n",
       "      <td>10 759.6</td>\n",
       "      <td>11 362.0</td>\n",
       "      <td>12 672.5</td>\n",
       "    </tr>\n",
       "    <tr>\n",
       "      <th>2</th>\n",
       "      <td>Austria</td>\n",
       "      <td>NaN</td>\n",
       "      <td>NaN</td>\n",
       "      <td>NaN</td>\n",
       "      <td>9 872.6</td>\n",
       "      <td>10 864.0</td>\n",
       "      <td>11 111.2</td>\n",
       "      <td>11 692.2</td>\n",
       "      <td>12 495.4</td>\n",
       "      <td>12 677.5</td>\n",
       "      <td>13 127.8</td>\n",
       "      <td>13 683.7</td>\n",
       "      <td>14 029.2</td>\n",
       "    </tr>\n",
       "    <tr>\n",
       "      <th>3</th>\n",
       "      <td>Belgium</td>\n",
       "      <td>NaN</td>\n",
       "      <td>NaN</td>\n",
       "      <td>NaN</td>\n",
       "      <td>9 772.3</td>\n",
       "      <td>10 025.9</td>\n",
       "      <td>10 090.9</td>\n",
       "      <td>10 182.6</td>\n",
       "      <td>10 764.2</td>\n",
       "      <td>10 993.6</td>\n",
       "      <td>11 461.0</td>\n",
       "      <td>12 041.2</td>\n",
       "      <td>12 813.0</td>\n",
       "    </tr>\n",
       "    <tr>\n",
       "      <th>4</th>\n",
       "      <td>Bulgaria</td>\n",
       "      <td>NaN</td>\n",
       "      <td>NaN</td>\n",
       "      <td>NaN</td>\n",
       "      <td>2 455.6</td>\n",
       "      <td>2 710.3</td>\n",
       "      <td>2 981.8</td>\n",
       "      <td>2 861.9</td>\n",
       "      <td>3 174.4</td>\n",
       "      <td>3 372.9</td>\n",
       "      <td>3 831.2</td>\n",
       "      <td>4 557.3</td>\n",
       "      <td>5 211.3</td>\n",
       "    </tr>\n",
       "  </tbody>\n",
       "</table>\n",
       "</div>"
      ],
      "text/plain": [
       "  country_name     2009     2010     2011     2012      2013      2014  \\\n",
       "0    Argentina  2 583.3  2 708.0  2 975.0      NaN       NaN       NaN   \n",
       "1    Australia  8 582.1  9 378.1  9 099.4  8 591.2   9 242.0   9 258.0   \n",
       "2      Austria      NaN      NaN      NaN  9 872.6  10 864.0  11 111.2   \n",
       "3      Belgium      NaN      NaN      NaN  9 772.3  10 025.9  10 090.9   \n",
       "4     Bulgaria      NaN      NaN      NaN  2 455.6   2 710.3   2 981.8   \n",
       "\n",
       "       2015      2016      2017      2018      2019      2020  \n",
       "0       NaN       NaN       NaN       NaN       NaN       NaN  \n",
       "1   9 527.2  10 020.5  10 157.1  10 759.6  11 362.0  12 672.5  \n",
       "2  11 692.2  12 495.4  12 677.5  13 127.8  13 683.7  14 029.2  \n",
       "3  10 182.6  10 764.2  10 993.6  11 461.0  12 041.2  12 813.0  \n",
       "4   2 861.9   3 174.4   3 372.9   3 831.2   4 557.3   5 211.3  "
      ]
     },
     "execution_count": 16,
     "metadata": {},
     "output_type": "execute_result"
    }
   ],
   "source": [
    "primary.head(5)"
   ]
  },
  {
   "cell_type": "code",
   "execution_count": 17,
   "metadata": {},
   "outputs": [
    {
     "data": {
      "text/html": [
       "<div>\n",
       "<style scoped>\n",
       "    .dataframe tbody tr th:only-of-type {\n",
       "        vertical-align: middle;\n",
       "    }\n",
       "\n",
       "    .dataframe tbody tr th {\n",
       "        vertical-align: top;\n",
       "    }\n",
       "\n",
       "    .dataframe thead th {\n",
       "        text-align: right;\n",
       "    }\n",
       "</style>\n",
       "<table border=\"1\" class=\"dataframe\">\n",
       "  <thead>\n",
       "    <tr style=\"text-align: right;\">\n",
       "      <th></th>\n",
       "      <th>country_name</th>\n",
       "      <th>2009</th>\n",
       "      <th>2010</th>\n",
       "      <th>2011</th>\n",
       "      <th>2012</th>\n",
       "      <th>2013</th>\n",
       "      <th>2014</th>\n",
       "      <th>2015</th>\n",
       "      <th>2016</th>\n",
       "      <th>2017</th>\n",
       "      <th>2018</th>\n",
       "      <th>2019</th>\n",
       "      <th>2020</th>\n",
       "    </tr>\n",
       "  </thead>\n",
       "  <tbody>\n",
       "    <tr>\n",
       "      <th>0</th>\n",
       "      <td>Argentina</td>\n",
       "      <td>3 890.3</td>\n",
       "      <td>3 905.5</td>\n",
       "      <td>4 401.6</td>\n",
       "      <td>NaN</td>\n",
       "      <td>NaN</td>\n",
       "      <td>NaN</td>\n",
       "      <td>NaN</td>\n",
       "      <td>NaN</td>\n",
       "      <td>NaN</td>\n",
       "      <td>NaN</td>\n",
       "      <td>NaN</td>\n",
       "      <td>NaN</td>\n",
       "    </tr>\n",
       "    <tr>\n",
       "      <th>1</th>\n",
       "      <td>Australia</td>\n",
       "      <td>10 973.4</td>\n",
       "      <td>11 414.9</td>\n",
       "      <td>11 167.5</td>\n",
       "      <td>10 769.1</td>\n",
       "      <td>11 668.8</td>\n",
       "      <td>11 732.9</td>\n",
       "      <td>12 278.6</td>\n",
       "      <td>11 658.9</td>\n",
       "      <td>12 539.7</td>\n",
       "      <td>14 181.4</td>\n",
       "      <td>14 146.5</td>\n",
       "      <td>15 437.4</td>\n",
       "    </tr>\n",
       "    <tr>\n",
       "      <th>2</th>\n",
       "      <td>Austria</td>\n",
       "      <td>NaN</td>\n",
       "      <td>NaN</td>\n",
       "      <td>NaN</td>\n",
       "      <td>14 132.2</td>\n",
       "      <td>15 040.4</td>\n",
       "      <td>15 035.5</td>\n",
       "      <td>15 481.8</td>\n",
       "      <td>16 573.7</td>\n",
       "      <td>16 604.8</td>\n",
       "      <td>16 718.2</td>\n",
       "      <td>17 371.3</td>\n",
       "      <td>17 478.3</td>\n",
       "    </tr>\n",
       "    <tr>\n",
       "      <th>3</th>\n",
       "      <td>Belgium</td>\n",
       "      <td>9 894.0</td>\n",
       "      <td>10 457.5</td>\n",
       "      <td>10 786.3</td>\n",
       "      <td>12 213.1</td>\n",
       "      <td>12 786.9</td>\n",
       "      <td>13 011.7</td>\n",
       "      <td>13 168.8</td>\n",
       "      <td>13 773.9</td>\n",
       "      <td>14 452.9</td>\n",
       "      <td>14 731.6</td>\n",
       "      <td>15 491.1</td>\n",
       "      <td>16 575.8</td>\n",
       "    </tr>\n",
       "    <tr>\n",
       "      <th>4</th>\n",
       "      <td>Bulgaria</td>\n",
       "      <td>NaN</td>\n",
       "      <td>NaN</td>\n",
       "      <td>NaN</td>\n",
       "      <td>2 888.1</td>\n",
       "      <td>3 190.0</td>\n",
       "      <td>3 483.2</td>\n",
       "      <td>3 422.1</td>\n",
       "      <td>3 740.8</td>\n",
       "      <td>4 112.7</td>\n",
       "      <td>4 654.1</td>\n",
       "      <td>5 513.1</td>\n",
       "      <td>6 232.4</td>\n",
       "    </tr>\n",
       "  </tbody>\n",
       "</table>\n",
       "</div>"
      ],
      "text/plain": [
       "  country_name      2009      2010      2011      2012      2013      2014  \\\n",
       "0    Argentina   3 890.3   3 905.5   4 401.6       NaN       NaN       NaN   \n",
       "1    Australia  10 973.4  11 414.9  11 167.5  10 769.1  11 668.8  11 732.9   \n",
       "2      Austria       NaN       NaN       NaN  14 132.2  15 040.4  15 035.5   \n",
       "3      Belgium   9 894.0  10 457.5  10 786.3  12 213.1  12 786.9  13 011.7   \n",
       "4     Bulgaria       NaN       NaN       NaN   2 888.1   3 190.0   3 483.2   \n",
       "\n",
       "       2015      2016      2017      2018      2019      2020  \n",
       "0       NaN       NaN       NaN       NaN       NaN       NaN  \n",
       "1  12 278.6  11 658.9  12 539.7  14 181.4  14 146.5  15 437.4  \n",
       "2  15 481.8  16 573.7  16 604.8  16 718.2  17 371.3  17 478.3  \n",
       "3  13 168.8  13 773.9  14 452.9  14 731.6  15 491.1  16 575.8  \n",
       "4   3 422.1   3 740.8   4 112.7   4 654.1   5 513.1   6 232.4  "
      ]
     },
     "execution_count": 17,
     "metadata": {},
     "output_type": "execute_result"
    }
   ],
   "source": [
    "secondary.head(5)"
   ]
  },
  {
   "cell_type": "code",
   "execution_count": 18,
   "metadata": {},
   "outputs": [
    {
     "name": "stdout",
     "output_type": "stream",
     "text": [
      "Common countries in all three DataFrames:\n",
      "{'Croatia', 'Slovak Republic', 'Finland', 'Israel', 'Japan', 'Portugal', 'Luxembourg', 'OECD - Average', 'Chile', 'Estonia', 'Greece', 'Türkiye', 'Poland', 'Bulgaria', 'Hungary', 'Korea', 'Belgium', 'Canada', 'New Zealand', 'Mexico', 'Norway', 'Switzerland', 'Slovenia', 'France', 'Colombia', 'Denmark', 'Romania', 'Australia', 'Germany', 'Costa Rica', 'Argentina', 'Sweden', 'Iceland', 'United Kingdom', 'Ireland', 'Austria', 'Lithuania', 'Netherlands', 'Italy', 'United States', 'Latvia', 'Czechia', 'Spain'}\n"
     ]
    }
   ],
   "source": [
    "# Assuming you have three DataFrames named primary, secondary, and tertiary\n",
    "countries_primary = set(primary['country_name'])\n",
    "countries_secondary = set(secondary['country_name'])\n",
    "countries_tertiary = set(tertiary['country_name'])\n",
    "\n",
    "common_countries = countries_primary.intersection(countries_secondary, countries_tertiary)\n",
    "\n",
    "print(\"Common countries in all three DataFrames:\")\n",
    "print(common_countries)\n"
   ]
  },
  {
   "cell_type": "code",
   "execution_count": 19,
   "metadata": {},
   "outputs": [],
   "source": [
    "common_countries = ['Croatia', 'Slovak Republic', 'Finland', 'Israel', 'Japan', 'Portugal', 'Luxembourg', 'OECD - Average', 'Chile', 'Estonia', 'Greece', 'Türkiye', 'Poland', 'Bulgaria', 'Hungary', 'Korea', 'Belgium', 'Canada', 'New Zealand', 'Mexico', 'Norway', 'Switzerland', 'Slovenia', 'France', 'Colombia', 'Denmark', 'Romania', 'Australia', 'Germany', 'Costa Rica', 'Argentina', 'Sweden', 'Iceland', 'United Kingdom', 'Ireland', 'Austria', 'Lithuania', 'Netherlands', 'Italy', 'United States', 'Latvia', 'Czechia', 'Spain']\n",
    "\n",
    "# Subset each DataFrame with the common countries\n",
    "primary = primary[primary['country_name'].isin(common_countries)]\n",
    "secondary = secondary[secondary['country_name'].isin(common_countries)]\n",
    "tertiary = tertiary[tertiary['country_name'].isin(common_countries)]"
   ]
  },
  {
   "cell_type": "code",
   "execution_count": 20,
   "metadata": {},
   "outputs": [
    {
     "data": {
      "text/plain": [
       "country_name     0\n",
       "2009            18\n",
       "2010            14\n",
       "2011            12\n",
       "2012             3\n",
       "2013             3\n",
       "year1            4\n",
       "2015             5\n",
       "2016             3\n",
       "2017             3\n",
       "year2            3\n",
       "2019             3\n",
       "2020             4\n",
       "dtype: int64"
      ]
     },
     "execution_count": 20,
     "metadata": {},
     "output_type": "execute_result"
    }
   ],
   "source": [
    "primary = primary.rename(columns={'Unnamed: 0': 'country_name', '2014': 'year1', '2018':'year2'})\n",
    "\n",
    "primary.isna().sum()"
   ]
  },
  {
   "cell_type": "code",
   "execution_count": 21,
   "metadata": {},
   "outputs": [
    {
     "data": {
      "text/plain": [
       "country_name     0\n",
       "2009            29\n",
       "2010            29\n",
       "2011            26\n",
       "2012             3\n",
       "2013             3\n",
       "year1            5\n",
       "2015             5\n",
       "2016             2\n",
       "2017             2\n",
       "year2            2\n",
       "2019             2\n",
       "2020             4\n",
       "dtype: int64"
      ]
     },
     "execution_count": 21,
     "metadata": {},
     "output_type": "execute_result"
    }
   ],
   "source": [
    "secondary = secondary.rename(columns={'Unnamed: 0': 'country_name', '2014': 'year1', '2018':'year2'})\n",
    "\n",
    "secondary.isna().sum()"
   ]
  },
  {
   "cell_type": "code",
   "execution_count": 22,
   "metadata": {},
   "outputs": [
    {
     "data": {
      "text/plain": [
       "country_name     0\n",
       "2009            17\n",
       "2010            15\n",
       "2011            12\n",
       "2012             5\n",
       "2013             4\n",
       "year1            4\n",
       "2015             5\n",
       "2016             4\n",
       "2017             3\n",
       "year2            3\n",
       "2019             3\n",
       "2020             3\n",
       "dtype: int64"
      ]
     },
     "execution_count": 22,
     "metadata": {},
     "output_type": "execute_result"
    }
   ],
   "source": [
    "tertiary = tertiary.rename(columns={'Unnamed: 0': 'country_name', '2014': 'year1', '2018':'year2'})\n",
    "\n",
    "tertiary.isna().sum()\n"
   ]
  },
  {
   "cell_type": "code",
   "execution_count": 23,
   "metadata": {},
   "outputs": [],
   "source": [
    "primary = primary[['country_name', 'year1', 'year2']]\n",
    "secondary = secondary[['country_name', 'year1', 'year2']]\n",
    "tertiary = tertiary[['country_name', 'year1', 'year2']]"
   ]
  },
  {
   "cell_type": "code",
   "execution_count": 25,
   "metadata": {},
   "outputs": [
    {
     "data": {
      "text/html": [
       "<div>\n",
       "<style scoped>\n",
       "    .dataframe tbody tr th:only-of-type {\n",
       "        vertical-align: middle;\n",
       "    }\n",
       "\n",
       "    .dataframe tbody tr th {\n",
       "        vertical-align: top;\n",
       "    }\n",
       "\n",
       "    .dataframe thead th {\n",
       "        text-align: right;\n",
       "    }\n",
       "</style>\n",
       "<table border=\"1\" class=\"dataframe\">\n",
       "  <thead>\n",
       "    <tr style=\"text-align: right;\">\n",
       "      <th></th>\n",
       "      <th>country_name</th>\n",
       "      <th>year1</th>\n",
       "      <th>year2</th>\n",
       "    </tr>\n",
       "  </thead>\n",
       "  <tbody>\n",
       "    <tr>\n",
       "      <th>0</th>\n",
       "      <td>Argentina</td>\n",
       "      <td>NaN</td>\n",
       "      <td>NaN</td>\n",
       "    </tr>\n",
       "    <tr>\n",
       "      <th>1</th>\n",
       "      <td>Australia</td>\n",
       "      <td>9 258.0</td>\n",
       "      <td>10 759.6</td>\n",
       "    </tr>\n",
       "    <tr>\n",
       "      <th>2</th>\n",
       "      <td>Austria</td>\n",
       "      <td>11 111.2</td>\n",
       "      <td>13 127.8</td>\n",
       "    </tr>\n",
       "    <tr>\n",
       "      <th>3</th>\n",
       "      <td>Belgium</td>\n",
       "      <td>10 090.9</td>\n",
       "      <td>11 461.0</td>\n",
       "    </tr>\n",
       "    <tr>\n",
       "      <th>4</th>\n",
       "      <td>Bulgaria</td>\n",
       "      <td>2 981.8</td>\n",
       "      <td>3 831.2</td>\n",
       "    </tr>\n",
       "    <tr>\n",
       "      <th>5</th>\n",
       "      <td>Canada</td>\n",
       "      <td>9 202.4</td>\n",
       "      <td>10 555.0</td>\n",
       "    </tr>\n",
       "    <tr>\n",
       "      <th>6</th>\n",
       "      <td>Chile</td>\n",
       "      <td>4 111.4</td>\n",
       "      <td>6 677.6</td>\n",
       "    </tr>\n",
       "    <tr>\n",
       "      <th>7</th>\n",
       "      <td>Colombia</td>\n",
       "      <td>2 654.8</td>\n",
       "      <td>3 340.4</td>\n",
       "    </tr>\n",
       "    <tr>\n",
       "      <th>8</th>\n",
       "      <td>Costa Rica</td>\n",
       "      <td>NaN</td>\n",
       "      <td>NaN</td>\n",
       "    </tr>\n",
       "    <tr>\n",
       "      <th>9</th>\n",
       "      <td>Croatia</td>\n",
       "      <td>4 801.7</td>\n",
       "      <td>6 353.4</td>\n",
       "    </tr>\n",
       "  </tbody>\n",
       "</table>\n",
       "</div>"
      ],
      "text/plain": [
       "  country_name     year1     year2\n",
       "0    Argentina       NaN       NaN\n",
       "1    Australia   9 258.0  10 759.6\n",
       "2      Austria  11 111.2  13 127.8\n",
       "3      Belgium  10 090.9  11 461.0\n",
       "4     Bulgaria   2 981.8   3 831.2\n",
       "5       Canada   9 202.4  10 555.0\n",
       "6        Chile   4 111.4   6 677.6\n",
       "7     Colombia   2 654.8   3 340.4\n",
       "8   Costa Rica       NaN       NaN\n",
       "9      Croatia   4 801.7   6 353.4"
      ]
     },
     "execution_count": 25,
     "metadata": {},
     "output_type": "execute_result"
    }
   ],
   "source": [
    "primary.head(10)"
   ]
  },
  {
   "cell_type": "code",
   "execution_count": 24,
   "metadata": {},
   "outputs": [
    {
     "ename": "AttributeError",
     "evalue": "'float' object has no attribute 'replace'",
     "output_type": "error",
     "traceback": [
      "\u001b[0;31m---------------------------------------------------------------------------\u001b[0m",
      "\u001b[0;31mAttributeError\u001b[0m                            Traceback (most recent call last)",
      "Cell \u001b[0;32mIn[24], line 1\u001b[0m\n\u001b[0;32m----> 1\u001b[0m primary[\u001b[38;5;124m'\u001b[39m\u001b[38;5;124myear1\u001b[39m\u001b[38;5;124m'\u001b[39m] \u001b[38;5;241m=\u001b[39m \u001b[43mprimary\u001b[49m\u001b[43m[\u001b[49m\u001b[38;5;124;43m'\u001b[39;49m\u001b[38;5;124;43myear1\u001b[39;49m\u001b[38;5;124;43m'\u001b[39;49m\u001b[43m]\u001b[49m\u001b[38;5;241;43m.\u001b[39;49m\u001b[43mapply\u001b[49m\u001b[43m(\u001b[49m\u001b[38;5;28;43;01mlambda\u001b[39;49;00m\u001b[43m \u001b[49m\u001b[43mx\u001b[49m\u001b[43m:\u001b[49m\u001b[43m \u001b[49m\u001b[43mx\u001b[49m\u001b[38;5;241;43m.\u001b[39;49m\u001b[43mreplace\u001b[49m\u001b[43m(\u001b[49m\u001b[38;5;124;43m\"\u001b[39;49m\u001b[38;5;124;43m \u001b[39;49m\u001b[38;5;124;43m\"\u001b[39;49m\u001b[43m,\u001b[49m\u001b[43m \u001b[49m\u001b[38;5;124;43m\"\u001b[39;49m\u001b[38;5;124;43m\"\u001b[39;49m\u001b[43m)\u001b[49m\u001b[43m)\u001b[49m\n\u001b[1;32m      2\u001b[0m primary[\u001b[38;5;124m'\u001b[39m\u001b[38;5;124myear2\u001b[39m\u001b[38;5;124m'\u001b[39m] \u001b[38;5;241m=\u001b[39m primary[\u001b[38;5;124m'\u001b[39m\u001b[38;5;124myear2\u001b[39m\u001b[38;5;124m'\u001b[39m]\u001b[38;5;241m.\u001b[39mapply(\u001b[38;5;28;01mlambda\u001b[39;00m x: x\u001b[38;5;241m.\u001b[39mreplace(\u001b[38;5;124m\"\u001b[39m\u001b[38;5;124m \u001b[39m\u001b[38;5;124m\"\u001b[39m, \u001b[38;5;124m\"\u001b[39m\u001b[38;5;124m\"\u001b[39m))\n\u001b[1;32m      3\u001b[0m primary\u001b[38;5;241m.\u001b[39mhead(\u001b[38;5;241m10\u001b[39m)\n",
      "File \u001b[0;32m/opt/homebrew/anaconda3/lib/python3.10/site-packages/pandas/core/series.py:4771\u001b[0m, in \u001b[0;36mSeries.apply\u001b[0;34m(self, func, convert_dtype, args, **kwargs)\u001b[0m\n\u001b[1;32m   4661\u001b[0m \u001b[38;5;28;01mdef\u001b[39;00m \u001b[38;5;21mapply\u001b[39m(\n\u001b[1;32m   4662\u001b[0m     \u001b[38;5;28mself\u001b[39m,\n\u001b[1;32m   4663\u001b[0m     func: AggFuncType,\n\u001b[0;32m   (...)\u001b[0m\n\u001b[1;32m   4666\u001b[0m     \u001b[38;5;241m*\u001b[39m\u001b[38;5;241m*\u001b[39mkwargs,\n\u001b[1;32m   4667\u001b[0m ) \u001b[38;5;241m-\u001b[39m\u001b[38;5;241m>\u001b[39m DataFrame \u001b[38;5;241m|\u001b[39m Series:\n\u001b[1;32m   4668\u001b[0m \u001b[38;5;250m    \u001b[39m\u001b[38;5;124;03m\"\"\"\u001b[39;00m\n\u001b[1;32m   4669\u001b[0m \u001b[38;5;124;03m    Invoke function on values of Series.\u001b[39;00m\n\u001b[1;32m   4670\u001b[0m \n\u001b[0;32m   (...)\u001b[0m\n\u001b[1;32m   4769\u001b[0m \u001b[38;5;124;03m    dtype: float64\u001b[39;00m\n\u001b[1;32m   4770\u001b[0m \u001b[38;5;124;03m    \"\"\"\u001b[39;00m\n\u001b[0;32m-> 4771\u001b[0m     \u001b[38;5;28;01mreturn\u001b[39;00m \u001b[43mSeriesApply\u001b[49m\u001b[43m(\u001b[49m\u001b[38;5;28;43mself\u001b[39;49m\u001b[43m,\u001b[49m\u001b[43m \u001b[49m\u001b[43mfunc\u001b[49m\u001b[43m,\u001b[49m\u001b[43m \u001b[49m\u001b[43mconvert_dtype\u001b[49m\u001b[43m,\u001b[49m\u001b[43m \u001b[49m\u001b[43margs\u001b[49m\u001b[43m,\u001b[49m\u001b[43m \u001b[49m\u001b[43mkwargs\u001b[49m\u001b[43m)\u001b[49m\u001b[38;5;241;43m.\u001b[39;49m\u001b[43mapply\u001b[49m\u001b[43m(\u001b[49m\u001b[43m)\u001b[49m\n",
      "File \u001b[0;32m/opt/homebrew/anaconda3/lib/python3.10/site-packages/pandas/core/apply.py:1123\u001b[0m, in \u001b[0;36mSeriesApply.apply\u001b[0;34m(self)\u001b[0m\n\u001b[1;32m   1120\u001b[0m     \u001b[38;5;28;01mreturn\u001b[39;00m \u001b[38;5;28mself\u001b[39m\u001b[38;5;241m.\u001b[39mapply_str()\n\u001b[1;32m   1122\u001b[0m \u001b[38;5;66;03m# self.f is Callable\u001b[39;00m\n\u001b[0;32m-> 1123\u001b[0m \u001b[38;5;28;01mreturn\u001b[39;00m \u001b[38;5;28;43mself\u001b[39;49m\u001b[38;5;241;43m.\u001b[39;49m\u001b[43mapply_standard\u001b[49m\u001b[43m(\u001b[49m\u001b[43m)\u001b[49m\n",
      "File \u001b[0;32m/opt/homebrew/anaconda3/lib/python3.10/site-packages/pandas/core/apply.py:1174\u001b[0m, in \u001b[0;36mSeriesApply.apply_standard\u001b[0;34m(self)\u001b[0m\n\u001b[1;32m   1172\u001b[0m     \u001b[38;5;28;01melse\u001b[39;00m:\n\u001b[1;32m   1173\u001b[0m         values \u001b[38;5;241m=\u001b[39m obj\u001b[38;5;241m.\u001b[39mastype(\u001b[38;5;28mobject\u001b[39m)\u001b[38;5;241m.\u001b[39m_values\n\u001b[0;32m-> 1174\u001b[0m         mapped \u001b[38;5;241m=\u001b[39m \u001b[43mlib\u001b[49m\u001b[38;5;241;43m.\u001b[39;49m\u001b[43mmap_infer\u001b[49m\u001b[43m(\u001b[49m\n\u001b[1;32m   1175\u001b[0m \u001b[43m            \u001b[49m\u001b[43mvalues\u001b[49m\u001b[43m,\u001b[49m\n\u001b[1;32m   1176\u001b[0m \u001b[43m            \u001b[49m\u001b[43mf\u001b[49m\u001b[43m,\u001b[49m\n\u001b[1;32m   1177\u001b[0m \u001b[43m            \u001b[49m\u001b[43mconvert\u001b[49m\u001b[38;5;241;43m=\u001b[39;49m\u001b[38;5;28;43mself\u001b[39;49m\u001b[38;5;241;43m.\u001b[39;49m\u001b[43mconvert_dtype\u001b[49m\u001b[43m,\u001b[49m\n\u001b[1;32m   1178\u001b[0m \u001b[43m        \u001b[49m\u001b[43m)\u001b[49m\n\u001b[1;32m   1180\u001b[0m \u001b[38;5;28;01mif\u001b[39;00m \u001b[38;5;28mlen\u001b[39m(mapped) \u001b[38;5;129;01mand\u001b[39;00m \u001b[38;5;28misinstance\u001b[39m(mapped[\u001b[38;5;241m0\u001b[39m], ABCSeries):\n\u001b[1;32m   1181\u001b[0m     \u001b[38;5;66;03m# GH#43986 Need to do list(mapped) in order to get treated as nested\u001b[39;00m\n\u001b[1;32m   1182\u001b[0m     \u001b[38;5;66;03m#  See also GH#25959 regarding EA support\u001b[39;00m\n\u001b[1;32m   1183\u001b[0m     \u001b[38;5;28;01mreturn\u001b[39;00m obj\u001b[38;5;241m.\u001b[39m_constructor_expanddim(\u001b[38;5;28mlist\u001b[39m(mapped), index\u001b[38;5;241m=\u001b[39mobj\u001b[38;5;241m.\u001b[39mindex)\n",
      "File \u001b[0;32m/opt/homebrew/anaconda3/lib/python3.10/site-packages/pandas/_libs/lib.pyx:2924\u001b[0m, in \u001b[0;36mpandas._libs.lib.map_infer\u001b[0;34m()\u001b[0m\n",
      "Cell \u001b[0;32mIn[24], line 1\u001b[0m, in \u001b[0;36m<lambda>\u001b[0;34m(x)\u001b[0m\n\u001b[0;32m----> 1\u001b[0m primary[\u001b[38;5;124m'\u001b[39m\u001b[38;5;124myear1\u001b[39m\u001b[38;5;124m'\u001b[39m] \u001b[38;5;241m=\u001b[39m primary[\u001b[38;5;124m'\u001b[39m\u001b[38;5;124myear1\u001b[39m\u001b[38;5;124m'\u001b[39m]\u001b[38;5;241m.\u001b[39mapply(\u001b[38;5;28;01mlambda\u001b[39;00m x: \u001b[43mx\u001b[49m\u001b[38;5;241;43m.\u001b[39;49m\u001b[43mreplace\u001b[49m(\u001b[38;5;124m\"\u001b[39m\u001b[38;5;124m \u001b[39m\u001b[38;5;124m\"\u001b[39m, \u001b[38;5;124m\"\u001b[39m\u001b[38;5;124m\"\u001b[39m))\n\u001b[1;32m      2\u001b[0m primary[\u001b[38;5;124m'\u001b[39m\u001b[38;5;124myear2\u001b[39m\u001b[38;5;124m'\u001b[39m] \u001b[38;5;241m=\u001b[39m primary[\u001b[38;5;124m'\u001b[39m\u001b[38;5;124myear2\u001b[39m\u001b[38;5;124m'\u001b[39m]\u001b[38;5;241m.\u001b[39mapply(\u001b[38;5;28;01mlambda\u001b[39;00m x: x\u001b[38;5;241m.\u001b[39mreplace(\u001b[38;5;124m\"\u001b[39m\u001b[38;5;124m \u001b[39m\u001b[38;5;124m\"\u001b[39m, \u001b[38;5;124m\"\u001b[39m\u001b[38;5;124m\"\u001b[39m))\n\u001b[1;32m      3\u001b[0m primary\u001b[38;5;241m.\u001b[39mhead(\u001b[38;5;241m10\u001b[39m)\n",
      "\u001b[0;31mAttributeError\u001b[0m: 'float' object has no attribute 'replace'"
     ]
    }
   ],
   "source": [
    "primary['year1'] = primary['year1'].apply(lambda x: x.replace(\" \", \"\"))\n",
    "primary['year2'] = primary['year2'].apply(lambda x: x.replace(\" \", \"\"))\n",
    "primary.head(10)"
   ]
  },
  {
   "cell_type": "code",
   "execution_count": null,
   "metadata": {},
   "outputs": [],
   "source": [
    "primary.to_csv('code/primary_updated.csv', index=False)"
   ]
  },
  {
   "cell_type": "code",
   "execution_count": null,
   "metadata": {},
   "outputs": [],
   "source": [
    "secondary['year1'] = secondary['year1'].apply(lambda x: x.replace(\" \", \"\"))\n",
    "secondary['year2'] = secondary['year2'].apply(lambda x: x.replace(\" \", \"\"))\n",
    "secondary.head(10)\n",
    "secondary.to_csv('code/secondary_updated.csv', index=False)"
   ]
  },
  {
   "cell_type": "code",
   "execution_count": null,
   "metadata": {},
   "outputs": [],
   "source": [
    "tertiary['year1'] = tertiary['year1'].apply(lambda x: x.replace(\" \", \"\"))\n",
    "tertiary['year2'] = tertiary['year2'].apply(lambda x: x.replace(\" \", \"\"))\n",
    "tertiary.head(10)\n",
    "tertiary.to_csv('code/tertiary_updated.csv', index=False)"
   ]
  }
 ],
 "metadata": {
  "kernelspec": {
   "display_name": "base",
   "language": "python",
   "name": "python3"
  },
  "language_info": {
   "codemirror_mode": {
    "name": "ipython",
    "version": 3
   },
   "file_extension": ".py",
   "mimetype": "text/x-python",
   "name": "python",
   "nbconvert_exporter": "python",
   "pygments_lexer": "ipython3",
   "version": "3.10.9"
  }
 },
 "nbformat": 4,
 "nbformat_minor": 2
}

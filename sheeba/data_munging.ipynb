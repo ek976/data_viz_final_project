{
 "cells": [
  {
   "cell_type": "code",
   "execution_count": 59,
   "metadata": {},
   "outputs": [],
   "source": [
    "import pandas as pd"
   ]
  },
  {
   "cell_type": "code",
   "execution_count": 60,
   "metadata": {},
   "outputs": [],
   "source": [
    "primary= pd.read_csv('code/primary.csv', skiprows=1)\n",
    "secondary=pd.read_csv('code/secondary.csv',skiprows=1)\n",
    "tertiary=pd.read_csv('code/tertiary.csv',skiprows=1)"
   ]
  },
  {
   "cell_type": "code",
   "execution_count": 61,
   "metadata": {},
   "outputs": [
    {
     "data": {
      "text/html": [
       "<div>\n",
       "<style scoped>\n",
       "    .dataframe tbody tr th:only-of-type {\n",
       "        vertical-align: middle;\n",
       "    }\n",
       "\n",
       "    .dataframe tbody tr th {\n",
       "        vertical-align: top;\n",
       "    }\n",
       "\n",
       "    .dataframe thead th {\n",
       "        text-align: right;\n",
       "    }\n",
       "</style>\n",
       "<table border=\"1\" class=\"dataframe\">\n",
       "  <thead>\n",
       "    <tr style=\"text-align: right;\">\n",
       "      <th></th>\n",
       "      <th>Unnamed: 0</th>\n",
       "      <th>2014</th>\n",
       "      <th>2015</th>\n",
       "      <th>2016</th>\n",
       "      <th>2017</th>\n",
       "      <th>2018</th>\n",
       "      <th>2019</th>\n",
       "      <th>2020</th>\n",
       "    </tr>\n",
       "  </thead>\n",
       "  <tbody>\n",
       "    <tr>\n",
       "      <th>0</th>\n",
       "      <td>Australia</td>\n",
       "      <td>9 258</td>\n",
       "      <td>9 527</td>\n",
       "      <td>10 020</td>\n",
       "      <td>10 157</td>\n",
       "      <td>10 760</td>\n",
       "      <td>11 362</td>\n",
       "      <td>12 673</td>\n",
       "    </tr>\n",
       "    <tr>\n",
       "      <th>1</th>\n",
       "      <td>Austria</td>\n",
       "      <td>11 111</td>\n",
       "      <td>11 692</td>\n",
       "      <td>12 495</td>\n",
       "      <td>12 677</td>\n",
       "      <td>13 128</td>\n",
       "      <td>13 684</td>\n",
       "      <td>14 029</td>\n",
       "    </tr>\n",
       "    <tr>\n",
       "      <th>2</th>\n",
       "      <td>Belgium</td>\n",
       "      <td>10 091</td>\n",
       "      <td>10 183</td>\n",
       "      <td>10 764</td>\n",
       "      <td>10 994</td>\n",
       "      <td>11 461</td>\n",
       "      <td>12 041</td>\n",
       "      <td>12 813</td>\n",
       "    </tr>\n",
       "    <tr>\n",
       "      <th>3</th>\n",
       "      <td>Bulgaria</td>\n",
       "      <td>2 982</td>\n",
       "      <td>2 862</td>\n",
       "      <td>3 174</td>\n",
       "      <td>3 373</td>\n",
       "      <td>3 831</td>\n",
       "      <td>4 557</td>\n",
       "      <td>5 211</td>\n",
       "    </tr>\n",
       "    <tr>\n",
       "      <th>4</th>\n",
       "      <td>Canada</td>\n",
       "      <td>9 202</td>\n",
       "      <td>9 156</td>\n",
       "      <td>9 649</td>\n",
       "      <td>10 174</td>\n",
       "      <td>10 555</td>\n",
       "      <td>10 674</td>\n",
       "      <td>11 533</td>\n",
       "    </tr>\n",
       "  </tbody>\n",
       "</table>\n",
       "</div>"
      ],
      "text/plain": [
       "  Unnamed: 0    2014    2015    2016    2017    2018    2019    2020\n",
       "0  Australia   9 258   9 527  10 020  10 157  10 760  11 362  12 673\n",
       "1    Austria  11 111  11 692  12 495  12 677  13 128  13 684  14 029\n",
       "2    Belgium  10 091  10 183  10 764  10 994  11 461  12 041  12 813\n",
       "3   Bulgaria   2 982   2 862   3 174   3 373   3 831   4 557   5 211\n",
       "4     Canada   9 202   9 156   9 649  10 174  10 555  10 674  11 533"
      ]
     },
     "execution_count": 61,
     "metadata": {},
     "output_type": "execute_result"
    }
   ],
   "source": [
    "primary.head(5)"
   ]
  },
  {
   "cell_type": "code",
   "execution_count": 62,
   "metadata": {},
   "outputs": [
    {
     "data": {
      "text/html": [
       "<div>\n",
       "<style scoped>\n",
       "    .dataframe tbody tr th:only-of-type {\n",
       "        vertical-align: middle;\n",
       "    }\n",
       "\n",
       "    .dataframe tbody tr th {\n",
       "        vertical-align: top;\n",
       "    }\n",
       "\n",
       "    .dataframe thead th {\n",
       "        text-align: right;\n",
       "    }\n",
       "</style>\n",
       "<table border=\"1\" class=\"dataframe\">\n",
       "  <thead>\n",
       "    <tr style=\"text-align: right;\">\n",
       "      <th></th>\n",
       "      <th>Unnamed: 0</th>\n",
       "      <th>2014</th>\n",
       "      <th>2015</th>\n",
       "      <th>2016</th>\n",
       "      <th>2017</th>\n",
       "      <th>2018</th>\n",
       "      <th>2019</th>\n",
       "      <th>2020</th>\n",
       "    </tr>\n",
       "  </thead>\n",
       "  <tbody>\n",
       "    <tr>\n",
       "      <th>0</th>\n",
       "      <td>Australia</td>\n",
       "      <td>11 733</td>\n",
       "      <td>12 279</td>\n",
       "      <td>11 659</td>\n",
       "      <td>12 540</td>\n",
       "      <td>14 181</td>\n",
       "      <td>14 146</td>\n",
       "      <td>15 437</td>\n",
       "    </tr>\n",
       "    <tr>\n",
       "      <th>1</th>\n",
       "      <td>Austria</td>\n",
       "      <td>15 035</td>\n",
       "      <td>15 482</td>\n",
       "      <td>16 574</td>\n",
       "      <td>16 605</td>\n",
       "      <td>16 718</td>\n",
       "      <td>17 371</td>\n",
       "      <td>17 478</td>\n",
       "    </tr>\n",
       "    <tr>\n",
       "      <th>2</th>\n",
       "      <td>Belgium</td>\n",
       "      <td>13 012</td>\n",
       "      <td>13 169</td>\n",
       "      <td>13 774</td>\n",
       "      <td>14 453</td>\n",
       "      <td>14 732</td>\n",
       "      <td>15 491</td>\n",
       "      <td>16 576</td>\n",
       "    </tr>\n",
       "    <tr>\n",
       "      <th>3</th>\n",
       "      <td>Bulgaria</td>\n",
       "      <td>3 483</td>\n",
       "      <td>3 422</td>\n",
       "      <td>3 741</td>\n",
       "      <td>4 113</td>\n",
       "      <td>4 654</td>\n",
       "      <td>5 513</td>\n",
       "      <td>6 232</td>\n",
       "    </tr>\n",
       "    <tr>\n",
       "      <th>4</th>\n",
       "      <td>Canada</td>\n",
       "      <td>12 705</td>\n",
       "      <td>13 559</td>\n",
       "      <td>14 521</td>\n",
       "      <td>13 804</td>\n",
       "      <td>14 474</td>\n",
       "      <td>14 708</td>\n",
       "      <td>14 520</td>\n",
       "    </tr>\n",
       "  </tbody>\n",
       "</table>\n",
       "</div>"
      ],
      "text/plain": [
       "  Unnamed: 0    2014    2015    2016    2017    2018    2019    2020\n",
       "0  Australia  11 733  12 279  11 659  12 540  14 181  14 146  15 437\n",
       "1    Austria  15 035  15 482  16 574  16 605  16 718  17 371  17 478\n",
       "2    Belgium  13 012  13 169  13 774  14 453  14 732  15 491  16 576\n",
       "3   Bulgaria   3 483   3 422   3 741   4 113   4 654   5 513   6 232\n",
       "4     Canada  12 705  13 559  14 521  13 804  14 474  14 708  14 520"
      ]
     },
     "execution_count": 62,
     "metadata": {},
     "output_type": "execute_result"
    }
   ],
   "source": [
    "secondary.head(5)"
   ]
  },
  {
   "cell_type": "code",
   "execution_count": 63,
   "metadata": {},
   "outputs": [
    {
     "name": "stdout",
     "output_type": "stream",
     "text": [
      "Common countries in all three DataFrames:\n",
      "{'Iceland', 'United States', 'Greece', 'Romania', 'New Zealand', 'Spain', 'Bulgaria', 'Finland', 'Lithuania', 'Luxembourg', 'OECD - Average', 'Mexico', 'Netherlands', 'Austria', 'Czechia', 'Israel', 'Canada', 'Croatia', 'Ireland', 'Türkiye', 'Belgium', 'Hungary', 'Denmark', 'Australia', 'Latvia', 'Portugal', 'Slovenia', 'Colombia', 'Estonia', 'Sweden', 'Korea', 'Chile', 'Japan', 'Slovak Republic', 'Germany', 'France', 'Norway', 'United Kingdom', 'Italy', 'Poland'}\n"
     ]
    }
   ],
   "source": [
    "# Assuming you have three DataFrames named primary, secondary, and tertiary\n",
    "countries_primary = set(primary['Unnamed: 0'])\n",
    "countries_secondary = set(secondary['Unnamed: 0'])\n",
    "countries_tertiary = set(tertiary['Unnamed: 0'])\n",
    "\n",
    "common_countries = countries_primary.intersection(countries_secondary, countries_tertiary)\n",
    "\n",
    "print(\"Common countries in all three DataFrames:\")\n",
    "print(common_countries)\n"
   ]
  },
  {
   "cell_type": "code",
   "execution_count": 64,
   "metadata": {},
   "outputs": [],
   "source": [
    "common_countries = ['Iceland', 'United States', 'Greece', 'Romania', 'New Zealand', 'Spain', 'Bulgaria',\n",
    "                    'Finland', 'Lithuania', 'Luxembourg', 'Mexico', 'Netherlands', 'Austria', 'Czechia',\n",
    "                    'Israel', 'Canada', 'Ireland', 'Belgium', 'Hungary', 'Denmark', 'Australia', 'Latvia',\n",
    "                    'Portugal', 'Slovenia', 'Estonia', 'Sweden', 'Korea', 'Chile', 'Japan', 'Slovak Republic',\n",
    "                    'Germany', 'France', 'Norway', 'United Kingdom', 'Italy', 'Poland']\n",
    "\n",
    "# Subset each DataFrame with the common countries\n",
    "primary = primary[primary['Unnamed: 0'].isin(common_countries)]\n",
    "secondary = secondary[secondary['Unnamed: 0'].isin(common_countries)]\n",
    "tertiary = tertiary[tertiary['Unnamed: 0'].isin(common_countries)]"
   ]
  },
  {
   "cell_type": "code",
   "execution_count": 65,
   "metadata": {},
   "outputs": [
    {
     "data": {
      "text/plain": [
       "country_name    0\n",
       "2014            1\n",
       "2015            1\n",
       "2016            0\n",
       "year1           0\n",
       "2018            0\n",
       "year2           0\n",
       "2020            1\n",
       "dtype: int64"
      ]
     },
     "execution_count": 65,
     "metadata": {},
     "output_type": "execute_result"
    }
   ],
   "source": [
    "primary = primary.rename(columns={'Unnamed: 0': 'country_name', '2017': 'year1', '2019':'year2'})\n",
    "\n",
    "primary.isna().sum()"
   ]
  },
  {
   "cell_type": "code",
   "execution_count": 66,
   "metadata": {},
   "outputs": [
    {
     "data": {
      "text/plain": [
       "country_name    0\n",
       "2014            2\n",
       "2015            1\n",
       "2016            0\n",
       "year1           0\n",
       "2018            0\n",
       "year2           0\n",
       "2020            1\n",
       "dtype: int64"
      ]
     },
     "execution_count": 66,
     "metadata": {},
     "output_type": "execute_result"
    }
   ],
   "source": [
    "secondary = secondary.rename(columns={'Unnamed: 0': 'country_name', '2017': 'year1', '2019':'year2'})\n",
    "\n",
    "secondary.isna().sum()"
   ]
  },
  {
   "cell_type": "code",
   "execution_count": 67,
   "metadata": {},
   "outputs": [
    {
     "data": {
      "text/plain": [
       "country_name    0\n",
       "2014            1\n",
       "2015            1\n",
       "2016            1\n",
       "year1           0\n",
       "2018            0\n",
       "year2           0\n",
       "2020            1\n",
       "dtype: int64"
      ]
     },
     "execution_count": 67,
     "metadata": {},
     "output_type": "execute_result"
    }
   ],
   "source": [
    "tertiary = tertiary.rename(columns={'Unnamed: 0': 'country_name', '2017': 'year1', '2019':'year2'})\n",
    "\n",
    "tertiary.isna().sum()\n"
   ]
  },
  {
   "cell_type": "code",
   "execution_count": 68,
   "metadata": {},
   "outputs": [],
   "source": [
    "primary = primary[['country_name', 'year1', 'year2']]\n",
    "secondary = secondary[['country_name', 'year1', 'year2']]\n",
    "tertiary = tertiary[['country_name', 'year1', 'year2']]"
   ]
  },
  {
   "cell_type": "code",
   "execution_count": 69,
   "metadata": {},
   "outputs": [
    {
     "data": {
      "text/html": [
       "<div>\n",
       "<style scoped>\n",
       "    .dataframe tbody tr th:only-of-type {\n",
       "        vertical-align: middle;\n",
       "    }\n",
       "\n",
       "    .dataframe tbody tr th {\n",
       "        vertical-align: top;\n",
       "    }\n",
       "\n",
       "    .dataframe thead th {\n",
       "        text-align: right;\n",
       "    }\n",
       "</style>\n",
       "<table border=\"1\" class=\"dataframe\">\n",
       "  <thead>\n",
       "    <tr style=\"text-align: right;\">\n",
       "      <th></th>\n",
       "      <th>country_name</th>\n",
       "      <th>year1</th>\n",
       "      <th>year2</th>\n",
       "    </tr>\n",
       "  </thead>\n",
       "  <tbody>\n",
       "    <tr>\n",
       "      <th>0</th>\n",
       "      <td>Australia</td>\n",
       "      <td>10157</td>\n",
       "      <td>11362</td>\n",
       "    </tr>\n",
       "    <tr>\n",
       "      <th>1</th>\n",
       "      <td>Austria</td>\n",
       "      <td>12677</td>\n",
       "      <td>13684</td>\n",
       "    </tr>\n",
       "    <tr>\n",
       "      <th>2</th>\n",
       "      <td>Belgium</td>\n",
       "      <td>10994</td>\n",
       "      <td>12041</td>\n",
       "    </tr>\n",
       "    <tr>\n",
       "      <th>3</th>\n",
       "      <td>Bulgaria</td>\n",
       "      <td>3373</td>\n",
       "      <td>4557</td>\n",
       "    </tr>\n",
       "    <tr>\n",
       "      <th>4</th>\n",
       "      <td>Canada</td>\n",
       "      <td>10174</td>\n",
       "      <td>10674</td>\n",
       "    </tr>\n",
       "    <tr>\n",
       "      <th>5</th>\n",
       "      <td>Chile</td>\n",
       "      <td>5948</td>\n",
       "      <td>6114</td>\n",
       "    </tr>\n",
       "    <tr>\n",
       "      <th>8</th>\n",
       "      <td>Czechia</td>\n",
       "      <td>5948</td>\n",
       "      <td>7758</td>\n",
       "    </tr>\n",
       "    <tr>\n",
       "      <th>9</th>\n",
       "      <td>Denmark</td>\n",
       "      <td>12479</td>\n",
       "      <td>13593</td>\n",
       "    </tr>\n",
       "    <tr>\n",
       "      <th>10</th>\n",
       "      <td>Estonia</td>\n",
       "      <td>7329</td>\n",
       "      <td>9660</td>\n",
       "    </tr>\n",
       "    <tr>\n",
       "      <th>11</th>\n",
       "      <td>Finland</td>\n",
       "      <td>9631</td>\n",
       "      <td>10888</td>\n",
       "    </tr>\n",
       "  </tbody>\n",
       "</table>\n",
       "</div>"
      ],
      "text/plain": [
       "   country_name  year1  year2\n",
       "0     Australia  10157  11362\n",
       "1       Austria  12677  13684\n",
       "2       Belgium  10994  12041\n",
       "3      Bulgaria   3373   4557\n",
       "4        Canada  10174  10674\n",
       "5         Chile   5948   6114\n",
       "8       Czechia   5948   7758\n",
       "9       Denmark  12479  13593\n",
       "10      Estonia   7329   9660\n",
       "11      Finland   9631  10888"
      ]
     },
     "execution_count": 69,
     "metadata": {},
     "output_type": "execute_result"
    }
   ],
   "source": [
    "primary['year1'] = primary['year1'].apply(lambda x: x.replace(\" \", \"\"))\n",
    "primary['year2'] = primary['year2'].apply(lambda x: x.replace(\" \", \"\"))\n",
    "primary.head(10)"
   ]
  },
  {
   "cell_type": "code",
   "execution_count": 70,
   "metadata": {},
   "outputs": [],
   "source": [
    "primary.to_csv('code/primary_updated.csv', index=False)"
   ]
  },
  {
   "cell_type": "code",
   "execution_count": 71,
   "metadata": {},
   "outputs": [],
   "source": [
    "secondary['year1'] = secondary['year1'].apply(lambda x: x.replace(\" \", \"\"))\n",
    "secondary['year2'] = secondary['year2'].apply(lambda x: x.replace(\" \", \"\"))\n",
    "secondary.head(10)\n",
    "secondary.to_csv('code/secondary_updated.csv', index=False)"
   ]
  },
  {
   "cell_type": "code",
   "execution_count": 72,
   "metadata": {},
   "outputs": [],
   "source": [
    "tertiary['year1'] = tertiary['year1'].apply(lambda x: x.replace(\" \", \"\"))\n",
    "tertiary['year2'] = tertiary['year2'].apply(lambda x: x.replace(\" \", \"\"))\n",
    "tertiary.head(10)\n",
    "tertiary.to_csv('code/tertiary_updated.csv', index=False)"
   ]
  }
 ],
 "metadata": {
  "kernelspec": {
   "display_name": "base",
   "language": "python",
   "name": "python3"
  },
  "language_info": {
   "codemirror_mode": {
    "name": "ipython",
    "version": 3
   },
   "file_extension": ".py",
   "mimetype": "text/x-python",
   "name": "python",
   "nbconvert_exporter": "python",
   "pygments_lexer": "ipython3",
   "version": "3.10.9"
  }
 },
 "nbformat": 4,
 "nbformat_minor": 2
}

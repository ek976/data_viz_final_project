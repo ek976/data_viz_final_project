{
 "cells": [
  {
   "cell_type": "raw",
   "metadata": {},
   "source": [
    "---\n",
    "title: \"Ed Stats EDA\"\n",
    "author: \"Tiana Le\"\n",
    "date: \"2/19/2024\"\n",
    "---"
   ]
  },
  {
   "cell_type": "markdown",
   "metadata": {},
   "source": [
    "# READ ME\n",
    "\n",
    "Please download the Education Data locally to run this notebook on your computer. (The Education Data was too large for git commit.)\n",
    "\n",
    "https://drive.google.com/drive/folders/1DMgypB9L6VsSHt2jGA4cKqAYOjkuN3Sx?usp=drive_link\n"
   ]
  },
  {
   "cell_type": "code",
   "execution_count": 6,
   "metadata": {},
   "outputs": [],
   "source": [
    "import pandas as pd\n",
    "import numpy as np"
   ]
  },
  {
   "cell_type": "markdown",
   "metadata": {},
   "source": [
    "https://datacatalog.worldbank.org/search/dataset/0038480/education-statistics"
   ]
  },
  {
   "cell_type": "code",
   "execution_count": 7,
   "metadata": {},
   "outputs": [
    {
     "name": "stdout",
     "output_type": "stream",
     "text": [
      "  Country Name Country Code  \\\n",
      "0   Arab World          ARB   \n",
      "1   Arab World          ARB   \n",
      "2   Arab World          ARB   \n",
      "3   Arab World          ARB   \n",
      "4   Arab World          ARB   \n",
      "\n",
      "                                      Indicator Name  Indicator Code  \\\n",
      "0  Adjusted net enrolment rate, lower secondary, ...      UIS.NERA.2   \n",
      "1  Adjusted net enrolment rate, lower secondary, ...    UIS.NERA.2.F   \n",
      "2  Adjusted net enrolment rate, lower secondary, ...  UIS.NERA.2.GPI   \n",
      "3  Adjusted net enrolment rate, lower secondary, ...    UIS.NERA.2.M   \n",
      "4  Adjusted net enrolment rate, primary, both sex...     SE.PRM.TENR   \n",
      "\n",
      "        1970       1971       1972       1973       1974      1975  ...  2060  \\\n",
      "0        NaN        NaN        NaN        NaN        NaN       NaN  ...   NaN   \n",
      "1        NaN        NaN        NaN        NaN        NaN       NaN  ...   NaN   \n",
      "2        NaN        NaN        NaN        NaN        NaN       NaN  ...   NaN   \n",
      "3        NaN        NaN        NaN        NaN        NaN       NaN  ...   NaN   \n",
      "4  54.822121  54.894138  56.209438  57.267109  57.991138  59.36554  ...   NaN   \n",
      "\n",
      "   2065  2070  2075  2080  2085  2090  2095  2100  Unnamed: 69  \n",
      "0   NaN   NaN   NaN   NaN   NaN   NaN   NaN   NaN          NaN  \n",
      "1   NaN   NaN   NaN   NaN   NaN   NaN   NaN   NaN          NaN  \n",
      "2   NaN   NaN   NaN   NaN   NaN   NaN   NaN   NaN          NaN  \n",
      "3   NaN   NaN   NaN   NaN   NaN   NaN   NaN   NaN          NaN  \n",
      "4   NaN   NaN   NaN   NaN   NaN   NaN   NaN   NaN          NaN  \n",
      "\n",
      "[5 rows x 70 columns]\n"
     ]
    }
   ],
   "source": [
    "ed = pd.read_csv('../../EdStats_CSV/EdStatsData.csv')\n",
    "print(ed.head())"
   ]
  },
  {
   "cell_type": "code",
   "execution_count": 8,
   "metadata": {},
   "outputs": [
    {
     "name": "stdout",
     "output_type": "stream",
     "text": [
      "3665\n"
     ]
    }
   ],
   "source": [
    "indicator_counts = ed['Indicator Name'].nunique()\n",
    "\n",
    "print(indicator_counts)"
   ]
  },
  {
   "cell_type": "code",
   "execution_count": 9,
   "metadata": {},
   "outputs": [
    {
     "name": "stdout",
     "output_type": "stream",
     "text": [
      "(886930, 70)\n"
     ]
    }
   ],
   "source": [
    "print(ed.shape)"
   ]
  },
  {
   "cell_type": "code",
   "execution_count": 10,
   "metadata": {},
   "outputs": [
    {
     "name": "stdout",
     "output_type": "stream",
     "text": [
      "['Adjusted net enrolment rate, lower secondary, both sexes (%)'\n",
      " 'Adjusted net enrolment rate, lower secondary, female (%)'\n",
      " 'Adjusted net enrolment rate, lower secondary, gender parity index (GPI)'\n",
      " 'Adjusted net enrolment rate, lower secondary, male (%)'\n",
      " 'Adjusted net enrolment rate, primary, both sexes (%)'\n",
      " 'Adjusted net enrolment rate, primary, female (%)'\n",
      " 'Adjusted net enrolment rate, primary, gender parity index (GPI)'\n",
      " 'Adjusted net enrolment rate, primary, male (%)'\n",
      " 'Adjusted net enrolment rate, upper secondary, both sexes (%)'\n",
      " 'Adjusted net enrolment rate, upper secondary, female (%)']\n",
      "['Adjusted net enrolment rate, upper secondary, gender parity index (GPI)'\n",
      " 'Adjusted net enrolment rate, upper secondary, male (%)'\n",
      " 'Adjusted net intake rate to Grade 1 of primary education, both sexes (%)'\n",
      " 'Adjusted net intake rate to Grade 1 of primary education, female (%)'\n",
      " 'Adjusted net intake rate to Grade 1 of primary education, gender parity index (GPI)'\n",
      " 'Adjusted net intake rate to Grade 1 of primary education, male (%)'\n",
      " 'Adult illiterate population, 15+ years, % female'\n",
      " 'Adult illiterate population, 15+ years, both sexes (number)'\n",
      " 'Adult illiterate population, 15+ years, female (number)'\n",
      " 'Adult illiterate population, 15+ years, male (number)']\n",
      "['Adult literacy rate, population 15+ years, both sexes (%)'\n",
      " 'Adult literacy rate, population 15+ years, female (%)'\n",
      " 'Adult literacy rate, population 15+ years, gender parity index (GPI)'\n",
      " 'Adult literacy rate, population 15+ years, male (%)'\n",
      " 'Africa Dataset: Average number of grades per multigrade class in primary schools (number of grades)'\n",
      " 'Africa Dataset: Average number of pupils per mathematics textbook in Grade 1 of primary education (number)'\n",
      " 'Africa Dataset: Average number of pupils per mathematics textbook in Grade 2 of primary education (number)'\n",
      " 'Africa Dataset: Average number of pupils per mathematics textbook in Grade 3 of primary education (number)'\n",
      " 'Africa Dataset: Average number of pupils per mathematics textbook in Grade 4 of primary education (number)'\n",
      " 'Africa Dataset: Average number of pupils per mathematics textbook in Grade 5 of primary education (number)']\n"
     ]
    }
   ],
   "source": [
    "indicator_value = ed['Indicator Name'].unique()\n",
    "\n",
    "print(indicator_value[:10])\n",
    "print(indicator_value[10:20])\n",
    "print(indicator_value[20:30])\n",
    "\n"
   ]
  },
  {
   "cell_type": "code",
   "execution_count": 11,
   "metadata": {},
   "outputs": [
    {
     "name": "stdout",
     "output_type": "stream",
     "text": [
      "                                         Country Name Country Code  \\\n",
      "0                                          Arab World          ARB   \n",
      "3                                           Euro area          EMU   \n",
      "6                                      European Union          EUU   \n",
      "9                           Latin America & Caribbean          LCN   \n",
      "10  Latin America & Caribbean (excluding high income)          LAC   \n",
      "\n",
      "                                       Indicator Name  Indicator Code  Year  \\\n",
      "0   Adjusted net enrolment rate, primary, gender p...  UIS.NERA.1.GPI  1970   \n",
      "3   Adjusted net enrolment rate, primary, gender p...  UIS.NERA.1.GPI  1970   \n",
      "6   Adjusted net enrolment rate, primary, gender p...  UIS.NERA.1.GPI  1970   \n",
      "9   Adjusted net enrolment rate, primary, gender p...  UIS.NERA.1.GPI  1970   \n",
      "10  Adjusted net enrolment rate, primary, gender p...  UIS.NERA.1.GPI  1970   \n",
      "\n",
      "      Value  \n",
      "0   0.65857  \n",
      "3   1.01033  \n",
      "6   1.00630  \n",
      "9   0.98917  \n",
      "10  0.98845  \n",
      "(4165, 6)\n",
      "['1970' '1971' '1972' '1973' '1974' '1975' '1976' '1977' '1978' '1979'\n",
      " '1980' '1981' '1982' '1983' '1984' '1985' '1986' '1987' '1988' '1989'\n",
      " '1990' '1991' '1992' '1993' '1994' '1995' '1996' '1997' '1998' '1999'\n",
      " '2000' '2001' '2002' '2003' '2004' '2005' '2006' '2007' '2008' '2009'\n",
      " '2010' '2011' '2012' '2013' '2014' '2015']\n"
     ]
    }
   ],
   "source": [
    "primary = ed[ed[\"Indicator Name\"]==\"Adjusted net enrolment rate, primary, gender parity index (GPI)\"]\n",
    "\n",
    "tidy_primary = pd.melt(primary, id_vars=['Country Name', 'Country Code', 'Indicator Name', 'Indicator Code'],\n",
    "                  var_name='Year', value_name='Value')\n",
    "tidy_primary = tidy_primary.dropna()\n",
    "\n",
    "year_unique = tidy_primary['Year'].unique()\n",
    "print(tidy_primary.head())\n",
    "print(tidy_primary.shape)\n",
    "print(year_unique)"
   ]
  },
  {
   "cell_type": "code",
   "execution_count": 12,
   "metadata": {},
   "outputs": [
    {
     "name": "stdout",
     "output_type": "stream",
     "text": [
      "    Country Name Country Code  \\\n",
      "71    Costa Rica          CRI   \n",
      "178         Peru          PER   \n",
      "269      Algeria          DZA   \n",
      "292     Botswana          BWA   \n",
      "301     Cameroon          CMR   \n",
      "\n",
      "                                        Indicator Name  Indicator Code  Year  \\\n",
      "71   Adjusted net enrolment rate, lower secondary, ...  UIS.NERA.2.GPI  1970   \n",
      "178  Adjusted net enrolment rate, lower secondary, ...  UIS.NERA.2.GPI  1970   \n",
      "269  Adjusted net enrolment rate, lower secondary, ...  UIS.NERA.2.GPI  1971   \n",
      "292  Adjusted net enrolment rate, lower secondary, ...  UIS.NERA.2.GPI  1971   \n",
      "301  Adjusted net enrolment rate, lower secondary, ...  UIS.NERA.2.GPI  1971   \n",
      "\n",
      "       Value  \n",
      "71   1.07246  \n",
      "178  0.83623  \n",
      "269  0.45049  \n",
      "292  1.25097  \n",
      "301  0.46995  \n",
      "(2248, 6)\n",
      "['1970' '1971' '1972' '1973' '1974' '1975' '1976' '1977' '1978' '1979'\n",
      " '1980' '1981' '1982' '1983' '1984' '1985' '1986' '1987' '1988' '1989'\n",
      " '1990' '1991' '1992' '1993' '1994' '1995' '1996' '1997' '1998' '1999'\n",
      " '2000' '2001' '2002' '2003' '2004' '2005' '2006' '2007' '2008' '2009'\n",
      " '2010' '2011' '2012' '2013' '2014' '2015']\n"
     ]
    }
   ],
   "source": [
    "# function to tidy data\n",
    "variable = \"\"\n",
    "def convert_to_tidy(df, variable):\n",
    "    # Filter the DataFrame for the desired indicator\n",
    "    ed_level = df[df[\"Indicator Name\"] == variable]\n",
    "    \n",
    "    # Melt the filtered DataFrame\n",
    "    tidy_ed_level = pd.melt(ed_level, id_vars=['Country Name', 'Country Code', 'Indicator Name', 'Indicator Code'],\n",
    "                           var_name='Year', value_name='Value')\n",
    "    \n",
    "    # Drop rows with NA values\n",
    "    tidy_ed_level = tidy_ed_level.dropna()\n",
    "    \n",
    "    # Get unique years\n",
    "    year_unique = tidy_ed_level['Year'].unique()\n",
    "    \n",
    "    # Print the head, shape, and unique years\n",
    "    print(tidy_ed_level.head())\n",
    "    print(tidy_ed_level.shape)\n",
    "    print(year_unique)\n",
    "\n",
    "    return(tidy_ed_level)\n",
    "\n",
    "lower_second = \"Adjusted net enrolment rate, lower secondary, gender parity index (GPI)\"\n",
    "lower_second = convert_to_tidy(ed, lower_second)\n"
   ]
  },
  {
   "cell_type": "code",
   "execution_count": 13,
   "metadata": {},
   "outputs": [
    {
     "name": "stdout",
     "output_type": "stream",
     "text": [
      "    Year  Count\n",
      "0   1970      2\n",
      "1   1971     24\n",
      "2   1972     24\n",
      "3   1973     22\n",
      "4   1974     24\n",
      "5   1975     20\n",
      "6   1976     22\n",
      "7   1977     27\n",
      "8   1978     26\n",
      "9   1979     26\n",
      "10  1980     21\n",
      "11  1981     26\n",
      "12  1982     23\n",
      "13  1983     23\n",
      "14  1984     25\n",
      "15  1985     24\n",
      "16  1986     26\n",
      "17  1987     20\n",
      "18  1988     15\n",
      "19  1989     21\n",
      "20  1990     17\n",
      "21  1991     22\n",
      "22  1992     24\n",
      "23  1993     27\n",
      "24  1994     32\n",
      "25  1995     27\n",
      "26  1996     26\n",
      "27  1997     27\n",
      "28  1998     40\n",
      "29  1999     93\n",
      "30  2000     93\n",
      "31  2001     95\n",
      "32  2002     96\n",
      "33  2003     89\n",
      "34  2004     97\n",
      "35  2005    101\n",
      "36  2006     95\n",
      "37  2007    101\n",
      "38  2008    100\n",
      "39  2009    110\n",
      "40  2010    103\n",
      "41  2011    106\n",
      "42  2012    101\n",
      "43  2013     98\n",
      "44  2014     84\n",
      "45  2015      3\n"
     ]
    }
   ],
   "source": [
    "lower_second_year = lower_second.groupby(['Year']).size().reset_index(name='Count')\n",
    "\n",
    "print(lower_second_year)"
   ]
  },
  {
   "cell_type": "code",
   "execution_count": 14,
   "metadata": {},
   "outputs": [
    {
     "name": "stdout",
     "output_type": "stream",
     "text": [
      "     Country Name Country Code  \\\n",
      "6816   Bangladesh          BGD   \n",
      "6826     Botswana          BWA   \n",
      "6927    Mauritius          MUS   \n",
      "6937      Namibia          NAM   \n",
      "6969   Seychelles          SYC   \n",
      "\n",
      "                                         Indicator Name  Indicator Code  Year  \\\n",
      "6816  Adjusted net enrolment rate, upper secondary, ...  UIS.NERA.3.GPI  1998   \n",
      "6826  Adjusted net enrolment rate, upper secondary, ...  UIS.NERA.3.GPI  1998   \n",
      "6927  Adjusted net enrolment rate, upper secondary, ...  UIS.NERA.3.GPI  1998   \n",
      "6937  Adjusted net enrolment rate, upper secondary, ...  UIS.NERA.3.GPI  1998   \n",
      "6969  Adjusted net enrolment rate, upper secondary, ...  UIS.NERA.3.GPI  1998   \n",
      "\n",
      "        Value  \n",
      "6816  0.77071  \n",
      "6826  1.18897  \n",
      "6927  1.06956  \n",
      "6937  1.14605  \n",
      "6969  0.99657  \n",
      "(761, 6)\n",
      "['1998' '1999' '2000' '2001' '2002' '2003' '2004' '2005' '2006' '2007'\n",
      " '2008' '2009' '2010' '2011' '2012' '2013' '2014' '2015']\n"
     ]
    }
   ],
   "source": [
    "upper_second = \"Adjusted net enrolment rate, upper secondary, gender parity index (GPI)\"\n",
    "upper_second = convert_to_tidy(ed, upper_second)"
   ]
  },
  {
   "cell_type": "code",
   "execution_count": 15,
   "metadata": {},
   "outputs": [
    {
     "name": "stdout",
     "output_type": "stream",
     "text": [
      "                        Country Name Country Code  \\\n",
      "41                          Barbados          BRB   \n",
      "102                          Grenada          GRD   \n",
      "208   St. Vincent and the Grenadines          VCT   \n",
      "1265                    Burkina Faso          BFA   \n",
      "1272        Central African Republic          CAF   \n",
      "\n",
      "                                         Indicator Name      Indicator Code  \\\n",
      "41    Adult literacy rate, population 15+ years, gen...  UIS.LR.AG15T99.GPI   \n",
      "102   Adult literacy rate, population 15+ years, gen...  UIS.LR.AG15T99.GPI   \n",
      "208   Adult literacy rate, population 15+ years, gen...  UIS.LR.AG15T99.GPI   \n",
      "1265  Adult literacy rate, population 15+ years, gen...  UIS.LR.AG15T99.GPI   \n",
      "1272  Adult literacy rate, population 15+ years, gen...  UIS.LR.AG15T99.GPI   \n",
      "\n",
      "      Year    Value  \n",
      "41    1970  0.99964  \n",
      "102   1970  0.99534  \n",
      "208   1970  0.99687  \n",
      "1265  1975  0.21907  \n",
      "1272  1975  0.28384  \n",
      "(1309, 6)\n",
      "['1970' '1975' '1976' '1977' '1978' '1979' '1980' '1981' '1982' '1983'\n",
      " '1984' '1985' '1986' '1987' '1988' '1989' '1990' '1991' '1992' '1993'\n",
      " '1994' '1995' '1996' '1997' '1998' '1999' '2000' '2001' '2002' '2003'\n",
      " '2004' '2005' '2006' '2007' '2008' '2009' '2010' '2011' '2012' '2013'\n",
      " '2014' '2015' '2016']\n"
     ]
    }
   ],
   "source": [
    "adult_literacy = \"Adult literacy rate, population 15+ years, gender parity index (GPI)\"\n",
    "adult_literacy = convert_to_tidy(ed, adult_literacy)"
   ]
  },
  {
   "cell_type": "code",
   "execution_count": 16,
   "metadata": {},
   "outputs": [
    {
     "name": "stdout",
     "output_type": "stream",
     "text": [
      "242\n"
     ]
    }
   ],
   "source": [
    "countries = ed['Country Name'].nunique()\n",
    "print(countries)"
   ]
  }
 ],
 "metadata": {
  "kernelspec": {
   "display_name": "base",
   "language": "python",
   "name": "python3"
  },
  "language_info": {
   "codemirror_mode": {
    "name": "ipython",
    "version": 3
   },
   "file_extension": ".py",
   "mimetype": "text/x-python",
   "name": "python",
   "nbconvert_exporter": "python",
   "pygments_lexer": "ipython3",
   "version": "3.11.7"
  }
 },
 "nbformat": 4,
 "nbformat_minor": 2
}

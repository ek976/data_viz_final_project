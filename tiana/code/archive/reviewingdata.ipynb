{
 "cells": [
  {
   "cell_type": "code",
   "execution_count": 2,
   "metadata": {},
   "outputs": [],
   "source": [
    "import pandas as pd\n",
    "import numpy as np"
   ]
  },
  {
   "cell_type": "code",
   "execution_count": 97,
   "metadata": {},
   "outputs": [
    {
     "name": "stdout",
     "output_type": "stream",
     "text": [
      "                                         Series Name        Series Code  \\\n",
      "0  Government expenditure on education, total (% ...  SE.XPD.TOTL.GD.ZS   \n",
      "1  Government expenditure on education, total (% ...  SE.XPD.TOTL.GD.ZS   \n",
      "2  Government expenditure on education, total (% ...  SE.XPD.TOTL.GD.ZS   \n",
      "3  Government expenditure on education, total (% ...  SE.XPD.TOTL.GD.ZS   \n",
      "4  Government expenditure on education, total (% ...  SE.XPD.TOTL.GD.ZS   \n",
      "\n",
      "                     Country Name Country Code     2004 [YR2004]  \\\n",
      "0     Africa Eastern and Southern          AFE  3.74496006965637   \n",
      "1      Africa Western and Central          AFW  2.42760503292084   \n",
      "2                      Arab World          ARB  5.02110004425048   \n",
      "3          Caribbean small states          CSS  3.91254997253418   \n",
      "4  Central Europe and the Baltics          CEB  4.83406019210815   \n",
      "\n",
      "      2005 [YR2005]     2006 [YR2006]     2007 [YR2007]     2008 [YR2008]  \\\n",
      "0  4.00578022003174  3.87146997451782                ..  4.28008008003235   \n",
      "1  2.65659999847412  2.55852007865906  2.73747003078461  2.49827003479004   \n",
      "2                ..  3.93055999279022                ..  4.33701992034912   \n",
      "3  4.61641979217529                ..  5.49022006988525  6.19131994247437   \n",
      "4  4.81026983261108  4.82572984695435  4.59521007537842  4.83990001678467   \n",
      "\n",
      "      2009 [YR2009]  ...     2014 [YR2014]     2015 [YR2015]  \\\n",
      "0                ..  ...   4.7172999382019  4.74350023269653   \n",
      "1  2.90790009498596  ...  2.91422998905181  3.19542145729065   \n",
      "2                ..  ...                ..                ..   \n",
      "3  6.19848012924194  ...  4.29359543323516  4.30185985565185   \n",
      "4  4.94636011123657  ...  4.48657989501953  4.81700992584229   \n",
      "\n",
      "      2016 [YR2016]     2017 [YR2017]     2018 [YR2018]     2019 [YR2019]  \\\n",
      "0  4.69199991226196  4.82044506072998  4.73974990844727  4.54195022583008   \n",
      "1  2.89910006523132  3.53558993339539  3.07154297828674  3.10023534297943   \n",
      "2                ..                ..                ..                ..   \n",
      "3  4.54088020324707  4.28120589256287  4.31529986858368  4.38114428520202   \n",
      "4  4.65749979019165  4.07527017593384  4.24356985092163  4.27319002151489   \n",
      "\n",
      "      2020 [YR2020]     2021 [YR2021]     2022 [YR2022] 2023 [YR2023]  \n",
      "0  4.35243988037109  4.63225483894348  3.90622544288635            ..  \n",
      "1  3.40395033359527   3.2829704284668  2.92844331264496            ..  \n",
      "2                ..                ..                ..            ..  \n",
      "3  4.91213750839233  4.32000994682312  4.07994532585144            ..  \n",
      "4  4.72159004211426  5.00158405303955                ..            ..  \n",
      "\n",
      "[5 rows x 24 columns]\n",
      "(677, 24)\n"
     ]
    }
   ],
   "source": [
    "df = pd.read_csv('../data/final.csv')\n",
    "print(df.head())\n",
    "print(df.shape)"
   ]
  },
  {
   "cell_type": "code",
   "execution_count": 98,
   "metadata": {},
   "outputs": [
    {
     "name": "stdout",
     "output_type": "stream",
     "text": [
      "['Government expenditure on education, total (% of GDP)'\n",
      " 'Government expenditure per student, secondary (% of GDP per capita)'\n",
      " 'Government expenditure per student, primary (% of GDP per capita)'\n",
      " 'Literacy rate, adult male (% of males ages 15 and above)'\n",
      " 'Literacy rate, adult total (% of people ages 15 and above)'\n",
      " 'Literacy rate, adult female (% of females ages 15 and above)'\n",
      " 'Literacy rate, youth female (% of females ages 15-24)'\n",
      " 'Literacy rate, youth total (% of people ages 15-24)'\n",
      " 'Literacy rate, youth (ages 15-24), gender parity index (GPI)'\n",
      " 'Literacy rate, youth male (% of males ages 15-24)'\n",
      " 'Youth illiterate population, 15-24 years, female (number)'\n",
      " 'Youth illiterate population, 15-24 years, male (number)'\n",
      " 'Youth illiterate population, 15-24 years, both sexes (number)'\n",
      " 'GDP per capita (constant 2010 US$)' nan\n",
      " 'Data from database: Gender Statistics' 'Last Updated: 04/15/2024']\n"
     ]
    }
   ],
   "source": [
    "print(df['Series Name'].unique())"
   ]
  },
  {
   "cell_type": "code",
   "execution_count": 99,
   "metadata": {},
   "outputs": [
    {
     "name": "stdout",
     "output_type": "stream",
     "text": [
      "                                             Series Name        Series Code  \\\n",
      "0      Government expenditure on education, total (% ...  SE.XPD.TOTL.GD.ZS   \n",
      "1      Government expenditure on education, total (% ...  SE.XPD.TOTL.GD.ZS   \n",
      "2      Government expenditure on education, total (% ...  SE.XPD.TOTL.GD.ZS   \n",
      "3      Government expenditure on education, total (% ...  SE.XPD.TOTL.GD.ZS   \n",
      "4      Government expenditure on education, total (% ...  SE.XPD.TOTL.GD.ZS   \n",
      "...                                                  ...                ...   \n",
      "13535                                                NaN                NaN   \n",
      "13536                                                NaN                NaN   \n",
      "13537                                                NaN                NaN   \n",
      "13538              Data from database: Gender Statistics                NaN   \n",
      "13539                           Last Updated: 04/15/2024                NaN   \n",
      "\n",
      "                         Country Name Country Code           Year  \\\n",
      "0         Africa Eastern and Southern          AFE  2004 [YR2004]   \n",
      "1          Africa Western and Central          AFW  2004 [YR2004]   \n",
      "2                          Arab World          ARB  2004 [YR2004]   \n",
      "3              Caribbean small states          CSS  2004 [YR2004]   \n",
      "4      Central Europe and the Baltics          CEB  2004 [YR2004]   \n",
      "...                               ...          ...            ...   \n",
      "13535                             NaN          NaN  2023 [YR2023]   \n",
      "13536                             NaN          NaN  2023 [YR2023]   \n",
      "13537                             NaN          NaN  2023 [YR2023]   \n",
      "13538                             NaN          NaN  2023 [YR2023]   \n",
      "13539                             NaN          NaN  2023 [YR2023]   \n",
      "\n",
      "                  Value  \n",
      "0      3.74496006965637  \n",
      "1      2.42760503292084  \n",
      "2      5.02110004425048  \n",
      "3      3.91254997253418  \n",
      "4      4.83406019210815  \n",
      "...                 ...  \n",
      "13535               NaN  \n",
      "13536               NaN  \n",
      "13537               NaN  \n",
      "13538               NaN  \n",
      "13539               NaN  \n",
      "\n",
      "[13540 rows x 6 columns]\n"
     ]
    }
   ],
   "source": [
    "# Unpivot the data\n",
    "tidy_df = pd.melt(df, id_vars=['Series Name', 'Series Code',\n",
    "                                    'Country Name', 'Country Code'], \n",
    "                                    var_name='Year', value_name='Value')\n",
    "\n",
    "# Print the unpivoted data\n",
    "print(tidy_df)"
   ]
  },
  {
   "cell_type": "code",
   "execution_count": 100,
   "metadata": {},
   "outputs": [
    {
     "name": "stdout",
     "output_type": "stream",
     "text": [
      "                                         Series Name  \\\n",
      "0  Government expenditure on education, total (% ...   \n",
      "1  Government expenditure on education, total (% ...   \n",
      "2  Government expenditure on education, total (% ...   \n",
      "3  Government expenditure on education, total (% ...   \n",
      "4  Government expenditure on education, total (% ...   \n",
      "\n",
      "                     Country Name Country Code  Year     Value  \n",
      "0     Africa Eastern and Southern          AFE  2004  3.744960  \n",
      "1      Africa Western and Central          AFW  2004  2.427605  \n",
      "2                      Arab World          ARB  2004  5.021100  \n",
      "3          Caribbean small states          CSS  2004  3.912550  \n",
      "4  Central Europe and the Baltics          CEB  2004  4.834060  \n",
      "(9394, 5)\n"
     ]
    }
   ],
   "source": [
    "tidy_df = tidy_df.dropna()\n",
    "\n",
    "# clean year column\n",
    "tidy_df['Year'] = tidy_df['Year'].str.replace(r'\\s*\\[YR\\d+\\]\\s*', '', regex=True)\n",
    "\n",
    "# change value to number\n",
    "tidy_df['Value'] = pd.to_numeric(tidy_df['Value'], errors='coerce')\n",
    "\n",
    "# drop na\n",
    "tidy_df = tidy_df.dropna()\n",
    "\n",
    "# drop Series Code column\n",
    "tidy_df = tidy_df.drop(columns=['Series Code'])\n",
    "\n",
    "print(tidy_df.head())\n",
    "print(tidy_df.shape)"
   ]
  },
  {
   "cell_type": "code",
   "execution_count": 101,
   "metadata": {},
   "outputs": [],
   "source": [
    "tidy_df.to_csv('../data/tidy_data.csv', index=False) "
   ]
  },
  {
   "cell_type": "code",
   "execution_count": 40,
   "metadata": {},
   "outputs": [
    {
     "ename": "NameError",
     "evalue": "name 'tidy_df' is not defined",
     "output_type": "error",
     "traceback": [
      "\u001b[0;31m---------------------------------------------------------------------------\u001b[0m",
      "\u001b[0;31mNameError\u001b[0m                                 Traceback (most recent call last)",
      "Cell \u001b[0;32mIn[40], line 1\u001b[0m\n\u001b[0;32m----> 1\u001b[0m govt_spend_primary \u001b[38;5;241m=\u001b[39m tidy_df[tidy_df[\u001b[38;5;124m'\u001b[39m\u001b[38;5;124mSeries Name\u001b[39m\u001b[38;5;124m'\u001b[39m]\u001b[38;5;241m==\u001b[39m\u001b[38;5;124m\"\u001b[39m\u001b[38;5;124mGovernment expenditure per student, primary (\u001b[39m\u001b[38;5;132;01m% o\u001b[39;00m\u001b[38;5;124mf GDP per capita)\u001b[39m\u001b[38;5;124m\"\u001b[39m]\n\u001b[1;32m      2\u001b[0m \u001b[38;5;66;03m# Rename columns for OJS readability\u001b[39;00m\n\u001b[1;32m      3\u001b[0m govt_spend_primary \u001b[38;5;241m=\u001b[39m govt_spend_primary\u001b[38;5;241m.\u001b[39mrename(columns\u001b[38;5;241m=\u001b[39m{\u001b[38;5;124m'\u001b[39m\u001b[38;5;124mSeries Name\u001b[39m\u001b[38;5;124m'\u001b[39m: \u001b[38;5;124m'\u001b[39m\u001b[38;5;124mseries_name\u001b[39m\u001b[38;5;124m'\u001b[39m, \u001b[38;5;124m'\u001b[39m\u001b[38;5;124mCountry Name\u001b[39m\u001b[38;5;124m'\u001b[39m: \u001b[38;5;124m'\u001b[39m\u001b[38;5;124mcountry_name\u001b[39m\u001b[38;5;124m'\u001b[39m, \n\u001b[1;32m      4\u001b[0m                         \u001b[38;5;124m'\u001b[39m\u001b[38;5;124mCountry Code\u001b[39m\u001b[38;5;124m'\u001b[39m: \u001b[38;5;124m'\u001b[39m\u001b[38;5;124mcountry_code\u001b[39m\u001b[38;5;124m'\u001b[39m, \u001b[38;5;124m'\u001b[39m\u001b[38;5;124mYear\u001b[39m\u001b[38;5;124m'\u001b[39m: \u001b[38;5;124m'\u001b[39m\u001b[38;5;124myear\u001b[39m\u001b[38;5;124m'\u001b[39m, \u001b[38;5;124m'\u001b[39m\u001b[38;5;124mValue\u001b[39m\u001b[38;5;124m'\u001b[39m: \u001b[38;5;124m'\u001b[39m\u001b[38;5;124mvalue\u001b[39m\u001b[38;5;124m'\u001b[39m })\n",
      "\u001b[0;31mNameError\u001b[0m: name 'tidy_df' is not defined"
     ]
    }
   ],
   "source": [
    "govt_spend_primary = tidy_df[tidy_df['Series Name']==\"Government expenditure per student, primary (% of GDP per capita)\"]\n",
    "# Rename columns for OJS readability\n",
    "govt_spend_primary = govt_spend_primary.rename(columns={'Series Name': 'series_name', 'Country Name': 'country_name', \n",
    "                        'Country Code': 'country_code', 'Year': 'year', 'Value': 'value' })\n",
    "govt_spend_primary.to_csv('../data/govt_spend_primary.csv', index=False) "
   ]
  },
  {
   "cell_type": "code",
   "execution_count": 41,
   "metadata": {},
   "outputs": [
    {
     "ename": "NameError",
     "evalue": "name 'govt_spend_primary' is not defined",
     "output_type": "error",
     "traceback": [
      "\u001b[0;31m---------------------------------------------------------------------------\u001b[0m",
      "\u001b[0;31mNameError\u001b[0m                                 Traceback (most recent call last)",
      "Cell \u001b[0;32mIn[41], line 1\u001b[0m\n\u001b[0;32m----> 1\u001b[0m column_range \u001b[38;5;241m=\u001b[39m  govt_spend_primary[\u001b[38;5;124m'\u001b[39m\u001b[38;5;124mvalue\u001b[39m\u001b[38;5;124m'\u001b[39m]\u001b[38;5;241m.\u001b[39mmax() \u001b[38;5;241m-\u001b[39m govt_spend_primary[\u001b[38;5;124m'\u001b[39m\u001b[38;5;124mvalue\u001b[39m\u001b[38;5;124m'\u001b[39m]\u001b[38;5;241m.\u001b[39mmin()\n\u001b[1;32m      3\u001b[0m \u001b[38;5;28mprint\u001b[39m(\u001b[38;5;124m\"\u001b[39m\u001b[38;5;124mRange of column \u001b[39m\u001b[38;5;124m'\u001b[39m\u001b[38;5;132;01m{}\u001b[39;00m\u001b[38;5;124m'\u001b[39m\u001b[38;5;124m: \u001b[39m\u001b[38;5;132;01m{}\u001b[39;00m\u001b[38;5;124m\"\u001b[39m\u001b[38;5;241m.\u001b[39mformat(\u001b[38;5;124m\"\u001b[39m\u001b[38;5;124mvalue\u001b[39m\u001b[38;5;124m\"\u001b[39m, column_range))\n",
      "\u001b[0;31mNameError\u001b[0m: name 'govt_spend_primary' is not defined"
     ]
    }
   ],
   "source": [
    "column_range =  govt_spend_primary['value'].max() - govt_spend_primary['value'].min()\n",
    "\n",
    "print(\"Range of column '{}': {}\".format(\"value\", column_range))"
   ]
  },
  {
   "cell_type": "code",
   "execution_count": 43,
   "metadata": {},
   "outputs": [
    {
     "name": "stdout",
     "output_type": "stream",
     "text": [
      "   Country Name  Percentage of Graduates\n",
      "1   Afghanistan                18.305571\n",
      "4       Albania                65.773697\n",
      "6       Algeria                63.269680\n",
      "10      Andorra                63.888889\n",
      "11    Argentina                64.863564\n",
      "(102, 2)\n"
     ]
    }
   ],
   "source": [
    "grads = pd.read_csv('../../../cleaned_data/female_graduates.csv')\n",
    "\n",
    "\n",
    "grads = grads[grads['Indicator Name']==\"Percentage of graduates from tertiary education who are female (%)\"]\n",
    "grads = grads[['Country Name', '2014']]\n",
    "grads = grads.rename(columns={'2014': 'Percentage of Graduates'})\n",
    "print(grads.head())\n",
    "print(grads.shape)\n",
    "\n"
   ]
  },
  {
   "cell_type": "code",
   "execution_count": 44,
   "metadata": {},
   "outputs": [
    {
     "name": "stdout",
     "output_type": "stream",
     "text": [
      "                                    Country Name Country Code  \\\n",
      "0                            East Asia & Pacific          EAS   \n",
      "1    East Asia & Pacific (excluding high income)          EAP   \n",
      "2                                      Euro area          EMU   \n",
      "3                          Europe & Central Asia          ECS   \n",
      "4  Europe & Central Asia (excluding high income)          ECA   \n",
      "\n",
      "                 Indicator Name  Indicator Code          2014  \n",
      "0  GDP per capita (current US$)  NY.GDP.PCAP.CD   9665.056079  \n",
      "1  GDP per capita (current US$)  NY.GDP.PCAP.CD   6307.578998  \n",
      "2  GDP per capita (current US$)  NY.GDP.PCAP.CD  39820.585020  \n",
      "3  GDP per capita (current US$)  NY.GDP.PCAP.CD  26192.934770  \n",
      "4  GDP per capita (current US$)  NY.GDP.PCAP.CD   9887.848051  \n",
      "(219, 5)\n",
      "['GDP per capita (current US$)']\n"
     ]
    }
   ],
   "source": [
    "gdp = pd.read_csv('../../../cleaned_data/gdp_2014.csv')\n",
    "\n",
    "print(gdp.head())\n",
    "print(gdp.shape)\n",
    "print(gdp['Indicator Name'].unique())"
   ]
  },
  {
   "cell_type": "code",
   "execution_count": 45,
   "metadata": {},
   "outputs": [
    {
     "name": "stdout",
     "output_type": "stream",
     "text": [
      "  Country Name  GDP per capita (current US$)  Percentage of Graduates\n",
      "0  Afghanistan                    612.069651                18.305571\n",
      "1      Albania                   4578.666728                65.773697\n",
      "2      Algeria                   5466.425778                63.269680\n",
      "3      Andorra                  42294.994730                63.888889\n",
      "4    Argentina                  12245.256450                64.863564\n",
      "(96, 3)\n"
     ]
    }
   ],
   "source": [
    "gdp = gdp[['Country Name', '2014']]\n",
    "gdp = gdp.rename(columns={'2014': 'GDP per capita (current US$)'})\n",
    "\n",
    "grad_gdp = pd.merge(gdp, grads, on='Country Name', how='inner')\n",
    "print(grad_gdp.head())\n",
    "print(grad_gdp.shape)\n",
    "grad_gdp.to_csv('../../data/grad_gdp.csv', index=False) "
   ]
  }
 ],
 "metadata": {
  "kernelspec": {
   "display_name": "base",
   "language": "python",
   "name": "python3"
  },
  "language_info": {
   "codemirror_mode": {
    "name": "ipython",
    "version": 3
   },
   "file_extension": ".py",
   "mimetype": "text/x-python",
   "name": "python",
   "nbconvert_exporter": "python",
   "pygments_lexer": "ipython3",
   "version": "3.11.7"
  }
 },
 "nbformat": 4,
 "nbformat_minor": 2
}

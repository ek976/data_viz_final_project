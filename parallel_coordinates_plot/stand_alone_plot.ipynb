{
 "cells": [
  {
   "cell_type": "code",
   "execution_count": 2,
   "metadata": {},
   "outputs": [
    {
     "data": {
      "application/vnd.plotly.v1+json": {
       "config": {
        "plotlyServerURL": "https://plot.ly"
       },
       "data": [
        {
         "dimensions": [
          {
           "label": "GDP per capita",
           "range": [
            312.748979387017,
            97199.9190963458
           ],
           "tickformat": "",
           "values": [
            2017.58778126222,
            41530.6689792581,
            1196.06139111191,
            3491.59588685069,
            7683.50261309118,
            4196.47059286118,
            44503.2467325879,
            86605.5633762421,
            59180.1989776727,
            14201.4488320148,
            12806.5651078094,
            22077.5361325219,
            29623.1644451343,
            97199.9190963458,
            6200.17322102474,
            18629.7796630086,
            24202.4308360444,
            16554.9713919032,
            15758.5297429218,
            2244.76376248334,
            48042.5634346518,
            42955.2428655883,
            3104.65829575449,
            46783.4692171284,
            51733.4819170733,
            27340.8838161118,
            62548.9850174371,
            7891.29977558849,
            7853.33519086217,
            4578.66672753259,
            49914.6186421589,
            8318.51268992675,
            47379.1739168858,
            14817.3777768495,
            4852.22366602785,
            10452.7835328408,
            7913.38324203845,
            15775.8459440106,
            2242.70745940423,
            3988.77187105817,
            6396.63048339218,
            6268.69212177713,
            6491.05245028136,
            10647.4417945857,
            6650.06112836686,
            3687.76376676599,
            3327.75424726108,
            5540.98413566175,
            37539.9518166878,
            2960.77800405245,
            26248.771888446,
            42996.4081162021,
            54598.5506887519,
            612.069651391198,
            706.238697681072,
            2504.71740655941,
            1316.98096583434,
            3529.61840305663,
            312.748979387017,
            703.821656461717,
            706.569951658266,
            429.790888993092,
            623.287114146296,
            15570.7789222605,
            10153.9382184867,
            1326.66865421644,
            6484.58498261381,
            354.725396088931,
            1218.46610553204
           ]
          },
          {
           "label": "Primary and secondary School",
           "range": [
            0,
            1
           ],
           "tickformat": ".2f",
           "values": [
            0.3772511250957019,
            0.6196442799076253,
            0.6679319713917514,
            0.524192669915904,
            0.5874173684898488,
            0.5981863861863771,
            0.6978851935538107,
            0.5949955805369344,
            0.9263273950688685,
            0.6429343834226539,
            0.678671422257911,
            0.7002949680366989,
            0.7658850130405309,
            0.64324460171923,
            0.5640469676881211,
            0.5371275357447405,
            0.6459024263474663,
            0.6321573515589466,
            0.6591434644855699,
            0.48499600069715265,
            0.5960753923051482,
            0.6784170697092465,
            0.5987597492732809,
            0.796202374060862,
            0.5748825885604357,
            0.5860930079114596,
            0.7519198987880672,
            0.6266294435833738,
            0.5802519249562702,
            0.5784306860127094,
            0.8724318873597084,
            0.625837830603846,
            1,
            0.5916348434202842,
            0.5427134880767852,
            0.5733266730157524,
            0.6594549277013148,
            0.4682298961114931,
            0.5109104716376268,
            0.536646919136273,
            0.6917232326816137,
            0.481205844273059,
            0.5785938482319019,
            0.7599458148929644,
            0.6226356650669392,
            0.42683913465668144,
            0.543260941283385,
            0.5923250732946125,
            0.6273125929798956,
            0.48001772453673286,
            0.45164788394863353,
            0.5990529277386615,
            0.5792899136648529,
            0.2646509869096737,
            0.571076403801981,
            0.5445349604426912,
            0.16199748059482177,
            0.631142353395204,
            0.41099450368184665,
            0.1604880939042529,
            0.511466639278443,
            0,
            0.29938034148132875,
            0.4834470878228221,
            0.6014603679981086,
            0.23228853491686952,
            0.5900754265404303,
            0.5676762961164723,
            0.45477854444050037
           ]
          },
          {
           "label": "GNI per capita",
           "range": [
            290,
            104860
           ],
           "tickformat": "",
           "values": [
            1840,
            42930,
            2840,
            3620,
            7520,
            4360,
            41530,
            86200,
            61030,
            13460,
            12090,
            21260,
            29300,
            104860,
            5840,
            18110,
            23550,
            16020,
            15310,
            2560,
            47710,
            42950,
            3560,
            43740,
            50400,
            26500,
            63530,
            7700,
            7720,
            4440,
            48990,
            7600,
            46940,
            15140,
            4390,
            10190,
            7970,
            15130,
            2040,
            3790,
            6130,
            6110,
            6360,
            10200,
            6630,
            3450,
            3180,
            6470,
            35790,
            3180,
            24300,
            49770,
            55350,
            630,
            730,
            2330,
            1390,
            3310,
            290,
            680,
            700,
            420,
            620,
            14100,
            9790,
            1380,
            6800,
            350,
            1380
           ]
          }
         ],
         "line": {
          "color": [
           1,
           3,
           1,
           2,
           2,
           2,
           3,
           3,
           3,
           3,
           2,
           3,
           3,
           3,
           2,
           3,
           3,
           3,
           3,
           2,
           3,
           3,
           1,
           3,
           3,
           3,
           3,
           2,
           2,
           2,
           3,
           2,
           3,
           3,
           2,
           2,
           2,
           3,
           1,
           2,
           2,
           2,
           2,
           2,
           2,
           2,
           1,
           1,
           3,
           2,
           3,
           3,
           3,
           0,
           1,
           1,
           1,
           1,
           0,
           0,
           0,
           0,
           0,
           3,
           2,
           1,
           2,
           0,
           1
          ],
          "colorbar": {
           "tickmode": "array",
           "ticktext": [
            "Low income",
            "Lower middle income",
            "Upper middle income",
            "High income"
           ],
           "tickvals": [
            0,
            1,
            2,
            3
           ],
           "title": {
            "text": "Income Group"
           }
          },
          "colorscale": [
           [
            0,
            "#3d6469"
           ],
           [
            0.3333333333333333,
            "#ffa205"
           ],
           [
            0.6666666666666666,
            "#ff4500"
           ],
           [
            1,
            "#d40637"
           ]
          ],
          "showscale": true
         },
         "type": "parcoords"
        }
       ],
       "layout": {
        "template": {
         "data": {
          "bar": [
           {
            "error_x": {
             "color": "#2a3f5f"
            },
            "error_y": {
             "color": "#2a3f5f"
            },
            "marker": {
             "line": {
              "color": "#E5ECF6",
              "width": 0.5
             },
             "pattern": {
              "fillmode": "overlay",
              "size": 10,
              "solidity": 0.2
             }
            },
            "type": "bar"
           }
          ],
          "barpolar": [
           {
            "marker": {
             "line": {
              "color": "#E5ECF6",
              "width": 0.5
             },
             "pattern": {
              "fillmode": "overlay",
              "size": 10,
              "solidity": 0.2
             }
            },
            "type": "barpolar"
           }
          ],
          "carpet": [
           {
            "aaxis": {
             "endlinecolor": "#2a3f5f",
             "gridcolor": "white",
             "linecolor": "white",
             "minorgridcolor": "white",
             "startlinecolor": "#2a3f5f"
            },
            "baxis": {
             "endlinecolor": "#2a3f5f",
             "gridcolor": "white",
             "linecolor": "white",
             "minorgridcolor": "white",
             "startlinecolor": "#2a3f5f"
            },
            "type": "carpet"
           }
          ],
          "choropleth": [
           {
            "colorbar": {
             "outlinewidth": 0,
             "ticks": ""
            },
            "type": "choropleth"
           }
          ],
          "contour": [
           {
            "colorbar": {
             "outlinewidth": 0,
             "ticks": ""
            },
            "colorscale": [
             [
              0,
              "#0d0887"
             ],
             [
              0.1111111111111111,
              "#46039f"
             ],
             [
              0.2222222222222222,
              "#7201a8"
             ],
             [
              0.3333333333333333,
              "#9c179e"
             ],
             [
              0.4444444444444444,
              "#bd3786"
             ],
             [
              0.5555555555555556,
              "#d8576b"
             ],
             [
              0.6666666666666666,
              "#ed7953"
             ],
             [
              0.7777777777777778,
              "#fb9f3a"
             ],
             [
              0.8888888888888888,
              "#fdca26"
             ],
             [
              1,
              "#f0f921"
             ]
            ],
            "type": "contour"
           }
          ],
          "contourcarpet": [
           {
            "colorbar": {
             "outlinewidth": 0,
             "ticks": ""
            },
            "type": "contourcarpet"
           }
          ],
          "heatmap": [
           {
            "colorbar": {
             "outlinewidth": 0,
             "ticks": ""
            },
            "colorscale": [
             [
              0,
              "#0d0887"
             ],
             [
              0.1111111111111111,
              "#46039f"
             ],
             [
              0.2222222222222222,
              "#7201a8"
             ],
             [
              0.3333333333333333,
              "#9c179e"
             ],
             [
              0.4444444444444444,
              "#bd3786"
             ],
             [
              0.5555555555555556,
              "#d8576b"
             ],
             [
              0.6666666666666666,
              "#ed7953"
             ],
             [
              0.7777777777777778,
              "#fb9f3a"
             ],
             [
              0.8888888888888888,
              "#fdca26"
             ],
             [
              1,
              "#f0f921"
             ]
            ],
            "type": "heatmap"
           }
          ],
          "heatmapgl": [
           {
            "colorbar": {
             "outlinewidth": 0,
             "ticks": ""
            },
            "colorscale": [
             [
              0,
              "#0d0887"
             ],
             [
              0.1111111111111111,
              "#46039f"
             ],
             [
              0.2222222222222222,
              "#7201a8"
             ],
             [
              0.3333333333333333,
              "#9c179e"
             ],
             [
              0.4444444444444444,
              "#bd3786"
             ],
             [
              0.5555555555555556,
              "#d8576b"
             ],
             [
              0.6666666666666666,
              "#ed7953"
             ],
             [
              0.7777777777777778,
              "#fb9f3a"
             ],
             [
              0.8888888888888888,
              "#fdca26"
             ],
             [
              1,
              "#f0f921"
             ]
            ],
            "type": "heatmapgl"
           }
          ],
          "histogram": [
           {
            "marker": {
             "pattern": {
              "fillmode": "overlay",
              "size": 10,
              "solidity": 0.2
             }
            },
            "type": "histogram"
           }
          ],
          "histogram2d": [
           {
            "colorbar": {
             "outlinewidth": 0,
             "ticks": ""
            },
            "colorscale": [
             [
              0,
              "#0d0887"
             ],
             [
              0.1111111111111111,
              "#46039f"
             ],
             [
              0.2222222222222222,
              "#7201a8"
             ],
             [
              0.3333333333333333,
              "#9c179e"
             ],
             [
              0.4444444444444444,
              "#bd3786"
             ],
             [
              0.5555555555555556,
              "#d8576b"
             ],
             [
              0.6666666666666666,
              "#ed7953"
             ],
             [
              0.7777777777777778,
              "#fb9f3a"
             ],
             [
              0.8888888888888888,
              "#fdca26"
             ],
             [
              1,
              "#f0f921"
             ]
            ],
            "type": "histogram2d"
           }
          ],
          "histogram2dcontour": [
           {
            "colorbar": {
             "outlinewidth": 0,
             "ticks": ""
            },
            "colorscale": [
             [
              0,
              "#0d0887"
             ],
             [
              0.1111111111111111,
              "#46039f"
             ],
             [
              0.2222222222222222,
              "#7201a8"
             ],
             [
              0.3333333333333333,
              "#9c179e"
             ],
             [
              0.4444444444444444,
              "#bd3786"
             ],
             [
              0.5555555555555556,
              "#d8576b"
             ],
             [
              0.6666666666666666,
              "#ed7953"
             ],
             [
              0.7777777777777778,
              "#fb9f3a"
             ],
             [
              0.8888888888888888,
              "#fdca26"
             ],
             [
              1,
              "#f0f921"
             ]
            ],
            "type": "histogram2dcontour"
           }
          ],
          "mesh3d": [
           {
            "colorbar": {
             "outlinewidth": 0,
             "ticks": ""
            },
            "type": "mesh3d"
           }
          ],
          "parcoords": [
           {
            "line": {
             "colorbar": {
              "outlinewidth": 0,
              "ticks": ""
             }
            },
            "type": "parcoords"
           }
          ],
          "pie": [
           {
            "automargin": true,
            "type": "pie"
           }
          ],
          "scatter": [
           {
            "fillpattern": {
             "fillmode": "overlay",
             "size": 10,
             "solidity": 0.2
            },
            "type": "scatter"
           }
          ],
          "scatter3d": [
           {
            "line": {
             "colorbar": {
              "outlinewidth": 0,
              "ticks": ""
             }
            },
            "marker": {
             "colorbar": {
              "outlinewidth": 0,
              "ticks": ""
             }
            },
            "type": "scatter3d"
           }
          ],
          "scattercarpet": [
           {
            "marker": {
             "colorbar": {
              "outlinewidth": 0,
              "ticks": ""
             }
            },
            "type": "scattercarpet"
           }
          ],
          "scattergeo": [
           {
            "marker": {
             "colorbar": {
              "outlinewidth": 0,
              "ticks": ""
             }
            },
            "type": "scattergeo"
           }
          ],
          "scattergl": [
           {
            "marker": {
             "colorbar": {
              "outlinewidth": 0,
              "ticks": ""
             }
            },
            "type": "scattergl"
           }
          ],
          "scattermapbox": [
           {
            "marker": {
             "colorbar": {
              "outlinewidth": 0,
              "ticks": ""
             }
            },
            "type": "scattermapbox"
           }
          ],
          "scatterpolar": [
           {
            "marker": {
             "colorbar": {
              "outlinewidth": 0,
              "ticks": ""
             }
            },
            "type": "scatterpolar"
           }
          ],
          "scatterpolargl": [
           {
            "marker": {
             "colorbar": {
              "outlinewidth": 0,
              "ticks": ""
             }
            },
            "type": "scatterpolargl"
           }
          ],
          "scatterternary": [
           {
            "marker": {
             "colorbar": {
              "outlinewidth": 0,
              "ticks": ""
             }
            },
            "type": "scatterternary"
           }
          ],
          "surface": [
           {
            "colorbar": {
             "outlinewidth": 0,
             "ticks": ""
            },
            "colorscale": [
             [
              0,
              "#0d0887"
             ],
             [
              0.1111111111111111,
              "#46039f"
             ],
             [
              0.2222222222222222,
              "#7201a8"
             ],
             [
              0.3333333333333333,
              "#9c179e"
             ],
             [
              0.4444444444444444,
              "#bd3786"
             ],
             [
              0.5555555555555556,
              "#d8576b"
             ],
             [
              0.6666666666666666,
              "#ed7953"
             ],
             [
              0.7777777777777778,
              "#fb9f3a"
             ],
             [
              0.8888888888888888,
              "#fdca26"
             ],
             [
              1,
              "#f0f921"
             ]
            ],
            "type": "surface"
           }
          ],
          "table": [
           {
            "cells": {
             "fill": {
              "color": "#EBF0F8"
             },
             "line": {
              "color": "white"
             }
            },
            "header": {
             "fill": {
              "color": "#C8D4E3"
             },
             "line": {
              "color": "white"
             }
            },
            "type": "table"
           }
          ]
         },
         "layout": {
          "annotationdefaults": {
           "arrowcolor": "#2a3f5f",
           "arrowhead": 0,
           "arrowwidth": 1
          },
          "autotypenumbers": "strict",
          "coloraxis": {
           "colorbar": {
            "outlinewidth": 0,
            "ticks": ""
           }
          },
          "colorscale": {
           "diverging": [
            [
             0,
             "#8e0152"
            ],
            [
             0.1,
             "#c51b7d"
            ],
            [
             0.2,
             "#de77ae"
            ],
            [
             0.3,
             "#f1b6da"
            ],
            [
             0.4,
             "#fde0ef"
            ],
            [
             0.5,
             "#f7f7f7"
            ],
            [
             0.6,
             "#e6f5d0"
            ],
            [
             0.7,
             "#b8e186"
            ],
            [
             0.8,
             "#7fbc41"
            ],
            [
             0.9,
             "#4d9221"
            ],
            [
             1,
             "#276419"
            ]
           ],
           "sequential": [
            [
             0,
             "#0d0887"
            ],
            [
             0.1111111111111111,
             "#46039f"
            ],
            [
             0.2222222222222222,
             "#7201a8"
            ],
            [
             0.3333333333333333,
             "#9c179e"
            ],
            [
             0.4444444444444444,
             "#bd3786"
            ],
            [
             0.5555555555555556,
             "#d8576b"
            ],
            [
             0.6666666666666666,
             "#ed7953"
            ],
            [
             0.7777777777777778,
             "#fb9f3a"
            ],
            [
             0.8888888888888888,
             "#fdca26"
            ],
            [
             1,
             "#f0f921"
            ]
           ],
           "sequentialminus": [
            [
             0,
             "#0d0887"
            ],
            [
             0.1111111111111111,
             "#46039f"
            ],
            [
             0.2222222222222222,
             "#7201a8"
            ],
            [
             0.3333333333333333,
             "#9c179e"
            ],
            [
             0.4444444444444444,
             "#bd3786"
            ],
            [
             0.5555555555555556,
             "#d8576b"
            ],
            [
             0.6666666666666666,
             "#ed7953"
            ],
            [
             0.7777777777777778,
             "#fb9f3a"
            ],
            [
             0.8888888888888888,
             "#fdca26"
            ],
            [
             1,
             "#f0f921"
            ]
           ]
          },
          "colorway": [
           "#636efa",
           "#EF553B",
           "#00cc96",
           "#ab63fa",
           "#FFA15A",
           "#19d3f3",
           "#FF6692",
           "#B6E880",
           "#FF97FF",
           "#FECB52"
          ],
          "font": {
           "color": "#2a3f5f"
          },
          "geo": {
           "bgcolor": "white",
           "lakecolor": "white",
           "landcolor": "#E5ECF6",
           "showlakes": true,
           "showland": true,
           "subunitcolor": "white"
          },
          "hoverlabel": {
           "align": "left"
          },
          "hovermode": "closest",
          "mapbox": {
           "style": "light"
          },
          "paper_bgcolor": "white",
          "plot_bgcolor": "#E5ECF6",
          "polar": {
           "angularaxis": {
            "gridcolor": "white",
            "linecolor": "white",
            "ticks": ""
           },
           "bgcolor": "#E5ECF6",
           "radialaxis": {
            "gridcolor": "white",
            "linecolor": "white",
            "ticks": ""
           }
          },
          "scene": {
           "xaxis": {
            "backgroundcolor": "#E5ECF6",
            "gridcolor": "white",
            "gridwidth": 2,
            "linecolor": "white",
            "showbackground": true,
            "ticks": "",
            "zerolinecolor": "white"
           },
           "yaxis": {
            "backgroundcolor": "#E5ECF6",
            "gridcolor": "white",
            "gridwidth": 2,
            "linecolor": "white",
            "showbackground": true,
            "ticks": "",
            "zerolinecolor": "white"
           },
           "zaxis": {
            "backgroundcolor": "#E5ECF6",
            "gridcolor": "white",
            "gridwidth": 2,
            "linecolor": "white",
            "showbackground": true,
            "ticks": "",
            "zerolinecolor": "white"
           }
          },
          "shapedefaults": {
           "line": {
            "color": "#2a3f5f"
           }
          },
          "ternary": {
           "aaxis": {
            "gridcolor": "white",
            "linecolor": "white",
            "ticks": ""
           },
           "baxis": {
            "gridcolor": "white",
            "linecolor": "white",
            "ticks": ""
           },
           "bgcolor": "#E5ECF6",
           "caxis": {
            "gridcolor": "white",
            "linecolor": "white",
            "ticks": ""
           }
          },
          "title": {
           "x": 0.05
          },
          "xaxis": {
           "automargin": true,
           "gridcolor": "white",
           "linecolor": "white",
           "ticks": "",
           "title": {
            "standoff": 15
           },
           "zerolinecolor": "white",
           "zerolinewidth": 2
          },
          "yaxis": {
           "automargin": true,
           "gridcolor": "white",
           "linecolor": "white",
           "ticks": "",
           "title": {
            "standoff": 15
           },
           "zerolinecolor": "white",
           "zerolinewidth": 2
          }
         }
        },
        "title": {
         "text": "2014 Female Enrollment vs. Economic Measures in US$",
         "x": 0.5
        }
       }
      }
     },
     "metadata": {},
     "output_type": "display_data"
    }
   ],
   "source": [
    "import pandas as pd\n",
    "import plotly.graph_objects as go\n",
    "\n",
    "# correct df \n",
    "sorted_merged_df_cleaned = pd.read_csv('../cleaned_data/sorted_merged_df_cleaned.csv')\n",
    "\n",
    "# normalize enrollment \n",
    "from sklearn.preprocessing import MinMaxScaler\n",
    "\n",
    "# Define the columns to normalize\n",
    "columns_to_normalize = ['2010 (Gross enrolment ratio, primary and secondary, female (%))',\n",
    "                        '2011 (Gross enrolment ratio, primary and secondary, female (%))',\n",
    "                        '2012 (Gross enrolment ratio, primary and secondary, female (%))',\n",
    "                        '2013 (Gross enrolment ratio, primary and secondary, female (%))',\n",
    "                        '2014 (Gross enrolment ratio, primary and secondary, female (%))']\n",
    "\n",
    "# Initialize the MinMaxScaler\n",
    "scaler = MinMaxScaler()\n",
    "\n",
    "# Normalize the specified columns\n",
    "df_normalized = sorted_merged_df_cleaned.copy()  # Create a copy of the DataFrame to avoid modifying the original\n",
    "df_normalized[columns_to_normalize] = scaler.fit_transform(df_normalized[columns_to_normalize])\n",
    "\n",
    "# Define dimensions for the parallel coordinates plot\n",
    "dimensions = ['2014 (GDP per capita (current US$))', \n",
    "              '2014 (Gross enrolment ratio, primary and secondary, female (%))',\n",
    "              '2014 (GNI per capita, Atlas method (current US$))']\n",
    "\n",
    "# Define your custom color scale\n",
    "hex_colors = [\"#3d6469\", \"#ffa205\", \"#ff4500\", \"#d40637\"]\n",
    "\n",
    "# Define custom labels for the color scale\n",
    "color_labels = ['Low income', 'Lower middle income', 'Upper middle income', 'High income']\n",
    "\n",
    "# Calculate the intervals for each color in the custom scale\n",
    "color_intervals = [i / (len(hex_colors) - 1) for i in range(len(hex_colors))]\n",
    "\n",
    "# Define custom labels for the dimensions\n",
    "custom_labels = ['GDP per capita', 'Primary and secondary School', 'GNI per capita']\n",
    "\n",
    "# Create the parallel coordinates plot using plotly.graph_objects\n",
    "fig = go.Figure()\n",
    "\n",
    "# Add parallel coordinates trace\n",
    "fig.add_trace(go.Parcoords(\n",
    "    line=dict(color=df_normalized['numeric_income'], \n",
    "              colorscale=hex_colors,  # Use your custom color scale\n",
    "              showscale=True,  # Set showscale to True to display the color scale\n",
    "              colorbar=dict(  # Define the color bar properties\n",
    "                  title='Income Group',  # Set the title of the color scale\n",
    "                  tickvals=[0, 1, 2, 3],  # Specify the tick values\n",
    "                  ticktext=color_labels,  # Specify the tick labels\n",
    "                  tickmode='array'  # Use array mode for custom tick labels\n",
    "              )\n",
    "             ),\n",
    "    dimensions=[\n",
    "        dict(range=[df_normalized[dim].min(), df_normalized[dim].max()],\n",
    "             label=label,  # Use custom label\n",
    "             tickformat='.2f' if dim == dimensions[1] else '',  # Set tick format to display percentages\n",
    "             values=df_normalized[dim])  # Keep values unchanged\n",
    "        for dim, label in zip(dimensions, custom_labels)\n",
    "    ],\n",
    "))\n",
    "\n",
    "# Update layout to add title\n",
    "fig.update_layout(\n",
    "    title=\"2014 Female Enrollment vs. Economic Measures in US$\",  # Set the title of the plot\n",
    "    title_x=0.5  # Set the x position of the title\n",
    ")\n"
   ]
  }
 ],
 "metadata": {
  "kernelspec": {
   "display_name": "gu",
   "language": "python",
   "name": "python3"
  },
  "language_info": {
   "codemirror_mode": {
    "name": "ipython",
    "version": 3
   },
   "file_extension": ".py",
   "mimetype": "text/x-python",
   "name": "python",
   "nbconvert_exporter": "python",
   "pygments_lexer": "ipython3",
   "version": "3.10.12"
  }
 },
 "nbformat": 4,
 "nbformat_minor": 2
}

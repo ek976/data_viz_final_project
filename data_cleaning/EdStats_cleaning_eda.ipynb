{
 "cells": [
  {
   "cell_type": "markdown",
   "metadata": {
    "vscode": {
     "languageId": "raw"
    }
   },
   "source": [
    "---\n",
    "title: \"Ed Stats EDA\"\n",
    "author: \"Tiana Le\"\n",
    "date: \"2/19/2024\"\n",
    "draft: true\n",
    "---"
   ]
  },
  {
   "cell_type": "markdown",
   "metadata": {},
   "source": [
    "# READ ME\n",
    "\n",
    "Please download the Education Data locally to run this notebook on your computer. (The Education Data was too large for git commit.)\n",
    "\n",
    "https://drive.google.com/drive/folders/1DMgypB9L6VsSHt2jGA4cKqAYOjkuN3Sx?usp=drive_link\n"
   ]
  },
  {
   "cell_type": "code",
   "execution_count": 132,
   "metadata": {},
   "outputs": [],
   "source": [
    "import pandas as pd\n",
    "import numpy as np"
   ]
  },
  {
   "cell_type": "markdown",
   "metadata": {},
   "source": [
    "https://datacatalog.worldbank.org/search/dataset/0038480/education-statistics"
   ]
  },
  {
   "cell_type": "code",
   "execution_count": 133,
   "metadata": {},
   "outputs": [
    {
     "name": "stdout",
     "output_type": "stream",
     "text": [
      "                                      Indicator Name\n",
      "0  Adjusted net enrolment rate, lower secondary, ...\n",
      "1  Adjusted net enrolment rate, lower secondary, ...\n",
      "2  Adjusted net enrolment rate, lower secondary, ...\n",
      "3  Adjusted net enrolment rate, lower secondary, ...\n",
      "4  Adjusted net enrolment rate, primary, both sex...\n"
     ]
    }
   ],
   "source": [
    "ed = pd.read_csv('../../EdStats_CSV/EdStatsData.csv')\n",
    "print(ed.head())"
   ]
  },
  {
   "cell_type": "code",
   "execution_count": 134,
   "metadata": {},
   "outputs": [
    {
     "name": "stdout",
     "output_type": "stream",
     "text": [
      "3665\n"
     ]
    }
   ],
   "source": [
    "indicator_counts = ed['Indicator Name'].nunique()\n",
    "\n",
    "print(indicator_counts)"
   ]
  },
  {
   "cell_type": "code",
   "execution_count": 135,
   "metadata": {},
   "outputs": [
    {
     "name": "stdout",
     "output_type": "stream",
     "text": [
      "(3665, 1)\n"
     ]
    }
   ],
   "source": [
    "print(ed.shape)"
   ]
  },
  {
   "cell_type": "code",
   "execution_count": 136,
   "metadata": {},
   "outputs": [
    {
     "name": "stdout",
     "output_type": "stream",
     "text": [
      "['Adjusted net enrolment rate, lower secondary, both sexes (%)'\n",
      " 'Adjusted net enrolment rate, lower secondary, female (%)'\n",
      " 'Adjusted net enrolment rate, lower secondary, gender parity index (GPI)'\n",
      " 'Adjusted net enrolment rate, lower secondary, male (%)'\n",
      " 'Adjusted net enrolment rate, primary, both sexes (%)'\n",
      " 'Adjusted net enrolment rate, primary, female (%)'\n",
      " 'Adjusted net enrolment rate, primary, gender parity index (GPI)'\n",
      " 'Adjusted net enrolment rate, primary, male (%)'\n",
      " 'Adjusted net enrolment rate, upper secondary, both sexes (%)'\n",
      " 'Adjusted net enrolment rate, upper secondary, female (%)']\n",
      "['Adjusted net enrolment rate, upper secondary, gender parity index (GPI)'\n",
      " 'Adjusted net enrolment rate, upper secondary, male (%)'\n",
      " 'Adjusted net intake rate to Grade 1 of primary education, both sexes (%)'\n",
      " 'Adjusted net intake rate to Grade 1 of primary education, female (%)'\n",
      " 'Adjusted net intake rate to Grade 1 of primary education, gender parity index (GPI)'\n",
      " 'Adjusted net intake rate to Grade 1 of primary education, male (%)'\n",
      " 'Adult illiterate population, 15+ years, % female'\n",
      " 'Adult illiterate population, 15+ years, both sexes (number)'\n",
      " 'Adult illiterate population, 15+ years, female (number)'\n",
      " 'Adult illiterate population, 15+ years, male (number)']\n",
      "['Adult literacy rate, population 15+ years, both sexes (%)'\n",
      " 'Adult literacy rate, population 15+ years, female (%)'\n",
      " 'Adult literacy rate, population 15+ years, gender parity index (GPI)'\n",
      " 'Adult literacy rate, population 15+ years, male (%)'\n",
      " 'Africa Dataset: Average number of grades per multigrade class in primary schools (number of grades)'\n",
      " 'Africa Dataset: Average number of pupils per mathematics textbook in Grade 1 of primary education (number)'\n",
      " 'Africa Dataset: Average number of pupils per mathematics textbook in Grade 2 of primary education (number)'\n",
      " 'Africa Dataset: Average number of pupils per mathematics textbook in Grade 3 of primary education (number)'\n",
      " 'Africa Dataset: Average number of pupils per mathematics textbook in Grade 4 of primary education (number)'\n",
      " 'Africa Dataset: Average number of pupils per mathematics textbook in Grade 5 of primary education (number)']\n"
     ]
    }
   ],
   "source": [
    "indicator_values = ed['Indicator Name'].unique()\n",
    "\n",
    "print(indicator_values[:10])\n",
    "print(indicator_values[10:20])\n",
    "print(indicator_values[20:30])\n",
    "\n",
    "indicator_values = indicator_values[:30]\n",
    "\n"
   ]
  },
  {
   "cell_type": "code",
   "execution_count": 137,
   "metadata": {},
   "outputs": [],
   "source": [
    "#primary = ed[ed[\"Indicator Name\"]==\"Adjusted net enrolment rate, primary, gender parity index (GPI)\"]\n",
    "\n",
    "#tidy_primary = pd.melt(primary, id_vars=['Country Name', 'Country Code', 'Indicator Name', 'Indicator Code'],\n",
    "                  #var_name='Year', value_name='Value')\n",
    "#tidy_primary = tidy_primary.dropna()\n",
    "\n",
    "#year_unique = tidy_primary['Year'].unique()\n",
    "#print(tidy_primary.head())\n",
    "#print(tidy_primary.shape)\n",
    "#print(year_unique)"
   ]
  },
  {
   "cell_type": "code",
   "execution_count": 138,
   "metadata": {},
   "outputs": [],
   "source": [
    "# function to tidy data\n",
    "variable = \"\"\n",
    "def convert_to_tidy(df, variable):\n",
    "    # Filter the DataFrame for the desired indicator\n",
    "    ed_level = df[df[\"Indicator Name\"] == variable]\n",
    "    \n",
    "    # Melt the filtered DataFrame\n",
    "    tidy_ed_level = pd.melt(ed_level, id_vars=['Country Name', 'Country Code', 'Indicator Name', 'Indicator Code'],\n",
    "                           var_name='Year', value_name='Value')\n",
    "    \n",
    "    # drop Country Name for now\n",
    "    tidy_ed_level.drop('Indicator Name', axis=1, inplace=True)\n",
    "    tidy_ed_level.drop('Indicator Code', axis=1, inplace=True)\n",
    "    tidy_ed_level.drop('Country Name', axis=1, inplace=True)\n",
    "\n",
    "    # Drop rows with NA values\n",
    "    tidy_ed_level = tidy_ed_level.dropna()\n",
    "\n",
    "    # Convert to year to numeric\n",
    "    tidy_ed_level['Year'] = pd.to_numeric(tidy_ed_level['Year'])\n",
    "    \n",
    "    # Get unique years\n",
    "    year_unique = tidy_ed_level['Year'].unique()\n",
    "    \n",
    "    # Print the head, shape, and unique years\n",
    "    print(tidy_ed_level.head())\n",
    "    print(tidy_ed_level.shape)\n",
    "    print(year_unique)\n",
    "\n",
    "    return(tidy_ed_level)\n",
    "\n",
    "#lower_second = \"Adjusted net enrolment rate, lower secondary, gender parity index (GPI)\"\n",
    "#lower_second = convert_to_tidy(ed, lower_second)\n"
   ]
  },
  {
   "cell_type": "code",
   "execution_count": 139,
   "metadata": {},
   "outputs": [
    {
     "name": "stdout",
     "output_type": "stream",
     "text": [
      "Adjusted net enrolment rate, lower secondary, both sexes (%)\n"
     ]
    }
   ],
   "source": [
    "print(indicator_values[0])"
   ]
  },
  {
   "cell_type": "code",
   "execution_count": 140,
   "metadata": {},
   "outputs": [],
   "source": [
    "selected_variables = [\"Adjusted net enrolment rate, lower secondary, both sexes (%)\",\"Adjusted net enrolment rate, lower secondary, female (%)\",\"Adjusted net enrolment rate, lower secondary, gender parity index (GPI)\",\"Adjusted net enrolment rate, lower secondary, male (%)\",\"Adjusted net enrolment rate, primary, both sexes (%)\",\"Adjusted net enrolment rate, primary, female (%)\",\"Adjusted net enrolment rate, primary, gender parity index (GPI)\",\"Adjusted net enrolment rate, primary, male (%)\",\"Adjusted net enrolment rate, upper secondary, both sexes (%)\",\"Adjusted net enrolment rate, upper secondary, female (%)\",\"Adjusted net enrolment rate, upper secondary, gender parity index (GPI)\",\"Adjusted net enrolment rate, upper secondary, male (%)\",\"Adjusted net intake rate to Grade 1 of primary education, both sexes (%)\",\"Adjusted net intake rate to Grade 1 of primary education, female (%)\",\"Adjusted net intake rate to Grade 1 of primary education, gender parity index (GPI)\",\"Adjusted net intake rate to Grade 1 of primary education, male (%)\",\"Adult illiterate population, 15+ years, % female\",\"Adult illiterate population, 15+ years, both sexes (number)\",\"Adult illiterate population, 15+ years, female (number)\",\"Adult illiterate population, 15+ years, male (number)\",\"Adult literacy rate, population 15+ years, both sexes (%)\",\"Adult literacy rate, population 15+ years, female (%)\",\"Adult literacy rate, population 15+ years, gender parity index (GPI)\",\"Adult literacy rate, population 15+ years, male (%)\",\"Expenditure on education as % of total government expenditure (%)\",\"Expenditure on education not allocated by level as % of government expenditure on education (%)\",\"Expenditure on lower secondary as % of government expenditure on education (%)\",\"Expenditure on lower secondary as % of total government expenditure (%)\",\"Expenditure on post-secondary non-tertiary as % of government expenditure on education (%)\",\"Expenditure on post-secondary non-tertiary as % of total government expenditure (%)\",\"Expenditure on pre-primary as % of government expenditure on education (%)\",\"Expenditure on pre-primary as % of total government expenditure (%)\",\"Expenditure on primary as % of government expenditure on education (%)\",\"Expenditure on primary as % of total government expenditure (%)\",\"Expenditure on secondary and post-secondary non-tertiary vocational as % of government expenditure on education (%)\",\"Expenditure on secondary and post-secondary non-tertiary vocational education as % of total government expenditure (%)\",\"Expenditure on secondary as % of government expenditure on education (%)\",\"Expenditure on secondary as % of total government expenditure (%)\",\"Expenditure on tertiary as % of government expenditure on education (%)\",\"Expenditure on tertiary as % of total government expenditure (%)\",\"Expenditure on upper secondary as % of government expenditure on education (%)\",\"Expenditure on upper secondary as % of total government expenditure (%)\",\"GDP at market prices (constant 2005 US$)\",\"GDP at market prices (current US$)\",\"GDP per capita (constant 2005 US$)\",\"GDP per capita (current US$)\",\"GDP per capita, PPP (constant 2011 international $)\",\"GDP per capita, PPP (current international $)\",\"GDP, PPP (constant 2011 international $)\",\"GDP, PPP (current international $)\",\"GNI (current US$)\",\"GNI per capita, Atlas method (current US$)\",\"GNI per capita, PPP (current international $)\",\"GNI, PPP (current international $)\",\"Government expenditure in educational institutions as % of GDP (%)\",\"Government expenditure in post-secondary non-tertiary institutions as % of GDP (%)\",\"Government expenditure in pre-primary institutions as % of GDP (%)\",\"Government expenditure in primary institutions as % of GDP (%)\",\"Government expenditure in secondary institutions education as % of GDP (%)\",\"Government expenditure in tertiary institutions as % of GDP (%)\",\"Government expenditure on education as % of GDP (%)\",\"Government expenditure on post-secondary non-tertiary education as % of GDP (%)\",\"Government expenditure on pre-primary education as % of GDP (%)\",\"Government expenditure on primary education as % of GDP (%)\",\"Government expenditure on secondary and post-secondary non-tertiary vocational education as % of GDP (%)\",\"Government expenditure on secondary education as % of GDP (%)\",\"Government expenditure on tertiary education as % of GDP (%)\",\"Government expenditure per lower secondary student (constant PPP$)\",\"Government expenditure per lower secondary student (constant US$)\",\"Government expenditure per lower secondary student (PPP$)\",\"Government expenditure per lower secondary student (US$)\",\"Government expenditure per lower secondary student as % of GDP per capita (%)\",\"Government expenditure per post-secondary non-tertiary student (constant PPP$)\",\"Government expenditure per post-secondary non-tertiary student (constant US$)\",\"Government expenditure per post-secondary non-tertiary student (PPP$)\",\"Government expenditure per post-secondary non-tertiary student (US$)\",\"Government expenditure per post-secondary non-tertiary student as % of GDP per capita (%)\",\"Labor force with advanced education (% of total)\",\"Labor force with advanced education, female (% of female labor force)\",\"Labor force with advanced education, male (% of male labor force)\",\"Labor force with basic education (% of total)\",\"Labor force with basic education, female (% of female labor force)\",\"Labor force with basic education, male (% of male labor force)\",\"Labor force with intermediate education (% of total)\",\"Labor force with intermediate education, female (% of female labor force)\",\"Labor force with intermediate education, male (% of male labor force)\",\"Labor force, female (% of total labor force)\",\"Labor force, total\",\"Percentage of female graduates from tertiary education graduating from Agriculture programmes, female (%)\",\"Percentage of female graduates from tertiary education graduating from Education programmes, female (%)\",\"Percentage of female graduates from tertiary education graduating from Engineering, Manufacturing and Construction programmes, female (%)\",\"Percentage of female graduates from tertiary education graduating from Health and Welfare programmes, female (%)\",\"Percentage of female graduates from tertiary education graduating from Humanities and Arts programmes, female (%)\",\"Percentage of female graduates from tertiary education graduating from programmes in unspecified fields, female (%)\",\"Percentage of female graduates from tertiary education graduating from Science programmes, female (%)\",\"Percentage of female graduates from tertiary education graduating from Services programmes, female (%)\",\"Percentage of female graduates from tertiary education graduating from Social Sciences, Business and Law programmes, female (%)\",\"Percentage of female students enrolled in primary education who are over-age, female (%)\",\"Percentage of female students enrolled in primary education who are under-age, female (%)\",\"Percentage of female students in lower secondary education enrolled in general programmes, female (%)\",\"Percentage of female students in lower secondary education enrolled in vocational programmes, female (%)\",\"Percentage of female students in post-secondary non-tertiary education enrolled in general programmes, female (%)\",\"Percentage of female students in post-secondary non-tertiary education enrolled in vocational programmes, female (%)\",\"Percentage of female students in secondary education enrolled in general programmes, female (%)\",\"Percentage of female students in secondary education enrolled in vocational programmes, female (%)\",\"Percentage of female students in tertiary education enrolled in Agriculture programmes, female (%)\",\"Percentage of female students in tertiary education enrolled in Education programmes, female (%)\",\"Percentage of female students in tertiary education enrolled in Engineering, Manufacturing and Construction programmes, female (%)\",\"Percentage of female students in tertiary education enrolled in Health and Welfare programmes, female (%)\",\"Percentage of female students in tertiary education enrolled in Humanities and Arts programmes, female (%)\",\"Percentage of female students in tertiary education enrolled in programmes in unspecified fields, female (%)\",\"Percentage of female students in tertiary education enrolled in Science programmes, female (%)\",\"Percentage of female students in tertiary education enrolled in Services programmes, female (%)\",\"Percentage of female students in tertiary education enrolled in Social Sciences, Business and Law programmes, female (%)\",\"Percentage of female students in upper secondary education enrolled in general programmes, female (%)\",\"Percentage of female students in upper secondary education enrolled in vocational programmes, female (%)\",\"Percentage of female teachers in lower secondary education who are trained, female (%)\",\"Percentage of female teachers in post-secondary non-tertiary education who are trained, female (%)\",\"Percentage of female teachers in pre-primary education who are trained, female (%)\",\"Percentage of female teachers in primary education who are trained, female (%)\",\"Percentage of female teachers in secondary education who are trained, female (%)\",\"Percentage of female teachers in upper secondary education who are trained, female (%)\",\"Percentage of graduates from Agriculture programmes in tertiary education who are female (%)\",\"Percentage of graduates from Education programmes in tertiary education who are female (%)\",\"Percentage of graduates from Engineering, Manufacturing and Construction programmes in tertiary education who are female (%)\",\"Percentage of graduates from Health and Welfare programmes in tertiary education who are female (%)\",\"Percentage of graduates from Humanities and Arts programmes in tertiary education who are female (%)\",\"Percentage of graduates from non-science and non-technology fields in tertiary education who are female (%)\",\"Percentage of graduates from programmes in unspecified fields in tertiary education who are female (%)\",\"Percentage of graduates from Science and Technology programmes in tertiary education who are female (%)\",\"Percentage of graduates from Science programmes in tertiary education who are female (%)\",\"Percentage of graduates from Services programmes in tertiary education who are female (%)\",\"Percentage of graduates from Social Sciences, Business and Law programmes in tertiary education who are female (%)\",\"Percentage of graduates from tertiary education graduating from Agriculture programmes, both sexes (%)\",\"Percentage of graduates from tertiary education graduating from Education programmes, both sexes (%)\",\"Percentage of graduates from tertiary education graduating from Engineering, Manufacturing and Construction programmes, both sexes (%)\",\"Percentage of graduates from tertiary education graduating from Health and Welfare programmes, both sexes (%)\",\"Percentage of graduates from tertiary education graduating from Humanities and Arts programmes, both sexes (%)\",\"Percentage of graduates from tertiary education graduating from programmes in unspecified fields, both sexes (%)\",\"Percentage of graduates from tertiary education graduating from Science programmes, both sexes (%)\",\"Percentage of graduates from tertiary education graduating from Services programmes, both sexes (%)\",\"Percentage of graduates from tertiary education graduating from Social Sciences, Business and Law programmes, both sexes (%)\",\"Percentage of graduates from tertiary education who are female (%)\",\"Percentage of male graduates from tertiary education graduating from Agriculture programmes, male (%)\",\"Percentage of male graduates from tertiary education graduating from Education programmes, male (%)\",\"Percentage of male graduates from tertiary education graduating from Engineering, Manufacturing and Construction programmes, male (%)\",\"Percentage of male graduates from tertiary education graduating from Health and Welfare programmes, male (%)\",\"Percentage of male graduates from tertiary education graduating from Humanities and Arts programmes, male (%)\",\"Percentage of male graduates from tertiary education graduating from programmes in unspecified fields, male (%)\",\"Percentage of male graduates from tertiary education graduating from Science programmes, male (%)\",\"Percentage of male graduates from tertiary education graduating from Services programmes, male (%)\",\"Percentage of male graduates from tertiary education graduating from Social Sciences, Business and Law programmes, male (%)\",\"Percentage of male students in secondary education enrolled in general programmes, male (%)\",\"Percentage of male students in secondary education enrolled in vocational programmes, male (%)\",\"Percentage of male students in tertiary education enrolled in Agriculture programmes, male (%)\",\"Percentage of male students in tertiary education enrolled in Education programmes, male (%)\",\"Percentage of male students in tertiary education enrolled in Engineering, Manufacturing and Construction programmes, male (%)\",\"Percentage of male students in tertiary education enrolled in Health and Welfare programmes, male (%)\",\"Percentage of male students in tertiary education enrolled in Humanities and Arts programmes, male (%)\",\"Percentage of students enrolled in Agriculture programmes in tertiary education who are female (%)\",\"Percentage of students enrolled in Education programmes in tertiary education who are female (%)\",\"Percentage of students enrolled in Engineering, Manufacturing and Construction programmes in tertiary education who are female (%)\",\"Percentage of students enrolled in Health and Welfare programmes in tertiary education who are female (%)\",\"Percentage of students enrolled in Humanities and Arts programmes in tertiary education who are female (%)\",\"Percentage of students enrolled in primary education who are over-age, both sexes (%)\",\"Percentage of students enrolled in primary education who are under-age, both sexes (%)\",\"Percentage of students enrolled in programmes in unspecified fields in tertiary education who are female (%)\",\"Percentage of students enrolled in Science programmes in tertiary education who are female (%)\",\"Percentage of students enrolled in Services programmes in tertiary education who are female (%)\",\"Percentage of students enrolled in Social Sciences, Business and Law programmes in tertiary education who are female (%)\",\"UIS: Adjusted net attendance rate, primary, both sexes (%)\",\"UIS: Adjusted net attendance rate, primary, female (%)\",\"UIS: Adjusted net attendance rate, primary, fourth quintile, both sexes (%)\",\"UIS: Adjusted net attendance rate, primary, fourth quintile, female (%)\",\"UIS: Adjusted net attendance rate, primary, fourth quintile, gender parity index (GPI)\",\"UIS: Adjusted net attendance rate, primary, fourth quintile, male (%)\",\"UIS: Adjusted net attendance rate, primary, gender parity index (GPI)\",\"UIS: Adjusted net attendance rate, primary, male (%)\",\"UIS: Adjusted net attendance rate, primary, middle quintile, both sexes (%)\",\"UIS: Adjusted net attendance rate, primary, middle quintile, female (%)\",\"UIS: Adjusted net attendance rate, primary, middle quintile, gender parity index (GPI)\",\"UIS: Adjusted net attendance rate, primary, middle quintile, male (%)\",\"UIS: Adjusted net attendance rate, primary, poorest quintile, both sexes (%)\",\"UIS: Adjusted net attendance rate, primary, poorest quintile, female (%)\",\"UIS: Adjusted net attendance rate, primary, poorest quintile, gender parity index (GPI)\",\"UIS: Adjusted net attendance rate, primary, poorest quintile, male (%)\",\"UIS: Adjusted net attendance rate, primary, richest quintile, both sexes (%)\",\"UIS: Adjusted net attendance rate, primary, richest quintile, female (%)\",\"UIS: Adjusted net attendance rate, primary, richest quintile, gender parity index (GPI)\",\"UIS: Adjusted net attendance rate, primary, richest quintile, male (%)\",\"UIS: Adjusted net attendance rate, primary, rural, both sexes (%)\",\"UIS: Adjusted net attendance rate, primary, rural, female (%)\",\"UIS: Adjusted net attendance rate, primary, rural, gender parity index (GPI)\",\"UIS: Adjusted net attendance rate, primary, rural, male (%)\",\"UIS: Adjusted net attendance rate, primary, second quintile, both sexes (%)\",\"UIS: Adjusted net attendance rate, primary, second quintile, female (%)\",\"UIS: Adjusted net attendance rate, primary, second quintile, gender parity index (GPI)\",\"UIS: Adjusted net attendance rate, primary, second quintile, male (%)\",\"UIS: Adjusted net attendance rate, primary, urban, both sexes (%)\",\"UIS: Adjusted net attendance rate, primary, urban, female (%)\",\"UIS: Adjusted net attendance rate, primary, urban, gender parity index (GPI)\",\"UIS: Adjusted net attendance rate, primary, urban, male (%)\",\"UIS: Mean years of schooling of the population age 25+. Female\",\"UIS: Mean years of schooling of the population age 25+. Male\",\"UIS: Mean years of schooling of the population age 25+. Total\",\"UIS: Net attendance rate, lower secondary, both sexes (%)\",\"UIS: Net attendance rate, lower secondary, female (%)\",\"UIS: Net attendance rate, lower secondary, fourth quintile, both sexes (%)\",\"UIS: Net attendance rate, lower secondary, fourth quintile, female (%)\",\"UIS: Net attendance rate, lower secondary, fourth quintile, gender parity index (GPI)\",\"UIS: Net attendance rate, lower secondary, fourth quintile, male (%)\",\"UIS: Net attendance rate, lower secondary, gender parity index (GPI)\",\"UIS: Net attendance rate, lower secondary, male (%)\",\"UIS: Net attendance rate, lower secondary, middle quintile, both sexes (%)\",\"UIS: Net attendance rate, lower secondary, middle quintile, female (%)\",\"UIS: Net attendance rate, lower secondary, middle quintile, gender parity index (GPI)\",\"UIS: Net attendance rate, lower secondary, middle quintile, male (%)\",\"UIS: Net attendance rate, lower secondary, poorest quintile, both sexes (%)\",\"UIS: Net attendance rate, lower secondary, poorest quintile, female (%)\",\"UIS: Net attendance rate, lower secondary, poorest quintile, gender parity index (GPI)\",\"UIS: Net attendance rate, lower secondary, poorest quintile, male (%)\",\"UIS: Net attendance rate, lower secondary, richest quintile, both sexes (%)\",\"UIS: Net attendance rate, lower secondary, richest quintile, female (%)\",\"UIS: Net attendance rate, lower secondary, richest quintile, gender parity index (GPI)\",\"UIS: Net attendance rate, lower secondary, richest quintile, male (%)\",\"UIS: Net attendance rate, lower secondary, rural, both sexes (%)\",\"UIS: Net attendance rate, lower secondary, rural, female (%)\",\"UIS: Net attendance rate, lower secondary, rural, gender parity index (GPI)\",\"UIS: Net attendance rate, lower secondary, rural, male (%)\",\"UIS: Net attendance rate, lower secondary, second quintile, both sexes (%)\",\"UIS: Net attendance rate, lower secondary, second quintile, female (%)\",\"UIS: Net attendance rate, lower secondary, second quintile, gender parity index (GPI)\",\"UIS: Net attendance rate, lower secondary, second quintile, male (%)\",\"UIS: Net attendance rate, lower secondary, urban, both sexes (%)\",\"UIS: Net attendance rate, lower secondary, urban, female (%)\",\"UIS: Net attendance rate, lower secondary, urban, gender parity index (GPI)\",\"UIS: Net attendance rate, lower secondary, urban, male (%)\",\"UIS: Net attendance rate, primary, both sexes (%)\",\"UIS: Net attendance rate, primary, female (%)\",\"UIS: Net attendance rate, primary, fourth quintile, both sexes (%)\",\"UIS: Net attendance rate, primary, fourth quintile, female (%)\",\"UIS: Net attendance rate, primary, fourth quintile, gender parity index (GPI)\",\"UIS: Net attendance rate, primary, fourth quintile, male (%)\",\"UIS: Net attendance rate, primary, gender parity index (GPI)\",\"UIS: Net attendance rate, primary, male (%)\",\"UIS: Net attendance rate, primary, middle quintile, both sexes (%)\",\"UIS: Net attendance rate, primary, middle quintile, female (%)\",\"UIS: Net attendance rate, primary, middle quintile, gender parity index (GPI)\",\"UIS: Net attendance rate, primary, middle quintile, male (%)\",\"UIS: Net attendance rate, primary, poorest quintile, both sexes (%)\",\"UIS: Net attendance rate, primary, poorest quintile, female (%)\",\"UIS: Net attendance rate, primary, poorest quintile, gender parity index (GPI)\",\"UIS: Net attendance rate, primary, poorest quintile, male (%)\",\"UIS: Net attendance rate, primary, richest quintile, both sexes (%)\",\"UIS: Net attendance rate, primary, richest quintile, female (%)\",\"UIS: Net attendance rate, primary, richest quintile, gender parity index (GPI)\",\"UIS: Net attendance rate, primary, richest quintile, male (%)\",\"UIS: Net attendance rate, primary, rural, both sexes (%)\",\"UIS: Net attendance rate, primary, rural, female (%)\",\"UIS: Net attendance rate, primary, rural, gender parity index (GPI)\",\"UIS: Net attendance rate, primary, rural, male (%)\",\"UIS: Net attendance rate, primary, second quintile, both sexes (%)\",\"UIS: Net attendance rate, primary, second quintile, female (%)\",\"UIS: Net attendance rate, primary, second quintile, gender parity index (GPI)\",\"UIS: Net attendance rate, primary, second quintile, male (%)\",\"UIS: Net attendance rate, primary, urban, both sexes (%)\",\"UIS: Net attendance rate, primary, urban, female (%)\",\"UIS: Net attendance rate, primary, urban, gender parity index (GPI)\",\"UIS: Net attendance rate, primary, urban, male (%)\",\"Youth illiterate population, 15-24 years, % female\",\"Youth illiterate population, 15-24 years, both sexes (number)\",\"Youth illiterate population, 15-24 years, female (number)\",\"Youth illiterate population, 15-24 years, male (number)\",\"Youth literacy rate, population 15-24 years, both sexes (%)\",\"Youth literacy rate, population 15-24 years, female (%)\",\"Youth literacy rate, population 15-24 years, gender parity index (GPI)\",\"Youth literacy rate, population 15-24 years, male (%)\"]"
   ]
  },
  {
   "cell_type": "code",
   "execution_count": 141,
   "metadata": {},
   "outputs": [
    {
     "name": "stdout",
     "output_type": "stream",
     "text": [
      "Adjusted net enrolment rate, lower secondary, both sexes (%)\n"
     ]
    }
   ],
   "source": [
    "print(selected_variables[0])"
   ]
  },
  {
   "cell_type": "code",
   "execution_count": 142,
   "metadata": {},
   "outputs": [],
   "source": [
    "#df1 = lower_second\n",
    "#for selected_variable in selected_variables:\n",
    "    #df = convert_to_tidy(ed, selected_variable)\n",
    "    #df = df.rename(columns={\"Value\": selected_variable})\n",
    "    #combined_df = pd.merge(df1, df, on=[\"Country Code\", \"Year\"], how=\"outer\")\n",
    "    #combined_df = combined_df[(combined_df['Year']>=2005) & (combined_df['Year']<=2014)]\n",
    "    #df1 = combined_df"
   ]
  },
  {
   "cell_type": "code",
   "execution_count": 143,
   "metadata": {},
   "outputs": [],
   "source": [
    "#print(df1.shape)\n",
    "#print(df1)"
   ]
  },
  {
   "cell_type": "code",
   "execution_count": 144,
   "metadata": {},
   "outputs": [],
   "source": [
    "#df1.to_csv('../data/education.csv', index=False)"
   ]
  },
  {
   "cell_type": "code",
   "execution_count": 145,
   "metadata": {},
   "outputs": [],
   "source": [
    "#df2 = lower_second\n",
    "#for indicator_value in indicator_values:\n",
    "    #df = convert_to_tidy(ed, indicator_value)\n",
    "    #df = df.rename(columns={\"Value\": indicator_value})\n",
    "    #combined_df = pd.merge(df1, df, on=[\"Country Code\", \"Year\"], how=\"outer\")\n",
    "    #combined_df = combined_df[(combined_df['Year']>=2005) & (combined_df['Year']<=2012)]\n",
    "    #combined_df = combined_df.dropna()\n",
    "    #df2 = combined_df\n",
    "\n"
   ]
  },
  {
   "cell_type": "code",
   "execution_count": 146,
   "metadata": {},
   "outputs": [],
   "source": [
    "#print(df1.head())"
   ]
  },
  {
   "cell_type": "code",
   "execution_count": null,
   "metadata": {},
   "outputs": [],
   "source": []
  },
  {
   "cell_type": "code",
   "execution_count": 147,
   "metadata": {},
   "outputs": [],
   "source": [
    "#lower_second_year = lower_second.groupby(['Year']).size().reset_index(name='Count')\n",
    "\n",
    "#print(lower_second_year)"
   ]
  },
  {
   "cell_type": "code",
   "execution_count": 148,
   "metadata": {},
   "outputs": [],
   "source": [
    "#lower_second_country = lower_second[(lower_second['Year']>=2005) & (lower_second['Year']<=2014)]\n",
    "#lower_second_country = lower_second_country.dropna()\n",
    "#print(lower_second_country.shape)\n",
    "#print(lower_second_country.head())\n",
    "#print(lower_second_country['Country Name'].nunique())"
   ]
  },
  {
   "cell_type": "code",
   "execution_count": 149,
   "metadata": {},
   "outputs": [],
   "source": [
    "#upper_second = \"Adjusted net enrolment rate, upper secondary, gender parity index (GPI)\"\n",
    "#upper_second = convert_to_tidy(ed, upper_second)"
   ]
  },
  {
   "cell_type": "code",
   "execution_count": 150,
   "metadata": {},
   "outputs": [],
   "source": [
    "#adult_literacy = \"Adult literacy rate, population 15+ years, gender parity index (GPI)\"\n",
    "#adult_literacy = convert_to_tidy(ed, adult_literacy)"
   ]
  },
  {
   "cell_type": "code",
   "execution_count": 151,
   "metadata": {},
   "outputs": [],
   "source": [
    "#countries = ed['Country Name'].nunique()\n",
    "#print(countries)"
   ]
  }
 ],
 "metadata": {
  "kernelspec": {
   "display_name": "base",
   "language": "python",
   "name": "python3"
  },
  "language_info": {
   "codemirror_mode": {
    "name": "ipython",
    "version": 3
   },
   "file_extension": ".py",
   "mimetype": "text/x-python",
   "name": "python",
   "nbconvert_exporter": "python",
   "pygments_lexer": "ipython3",
   "version": "3.11.7"
  }
 },
 "nbformat": 4,
 "nbformat_minor": 2
}
